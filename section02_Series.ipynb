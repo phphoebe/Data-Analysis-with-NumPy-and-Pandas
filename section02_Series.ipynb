{
 "cells": [
  {
   "cell_type": "code",
   "execution_count": 1,
   "id": "b2d1c5b7",
   "metadata": {},
   "outputs": [],
   "source": [
    "# import libraries needed\n",
    "import numpy as np\n",
    "import pandas as pd"
   ]
  },
  {
   "attachments": {},
   "cell_type": "markdown",
   "id": "4bd333cf",
   "metadata": {},
   "source": [
    "## 1 - Series Basics"
   ]
  },
  {
   "attachments": {},
   "cell_type": "markdown",
   "id": "c504a14e",
   "metadata": {},
   "source": [
    "Pandas `Series` - the Python equivalent of a column of data. Topics we'll cover:\n",
    "* Pandas Series Basics\n",
    "* Series indexing\n",
    "* Sorting & Filtering\n",
    "* Operations & Aggregations\n",
    "* Handling Missing Data\n",
    "* Applying Custom Functions \n",
    "\n",
    "`Series` are Pandas data structures built on top of NumPy arrays\n",
    "* Series also contain an `index` and an `optional name`, in addition to the array of data\n",
    "* They can be created from other data types, but are usually imported from external sources\n",
    "* Two or more Series grouped together form a Pandas DataFrame"
   ]
  },
  {
   "cell_type": "code",
   "execution_count": 2,
   "id": "9847e38e",
   "metadata": {},
   "outputs": [
    {
     "name": "stdout",
     "output_type": "stream",
     "text": [
      "0       0\n",
      "1       5\n",
      "2     155\n",
      "3       0\n",
      "4     518\n",
      "5       0\n",
      "6    1827\n",
      "7     616\n",
      "8     317\n",
      "9     325\n",
      "Name: Sales, dtype: int64\n"
     ]
    }
   ],
   "source": [
    "# One of the key differentiating factors between a NumPy array and a Pandas series is that we can give a series\n",
    "# a custom index as well as an optional name\n",
    "# which would be analogous to a column header or column title that we see in other tools.\n",
    "\n",
    "# The index is an array of integers starting at 0 by default, but i can be modified\n",
    "\n",
    "sales = [0, 5, 155, 0, 518, 0, 1827, 616, 317, 325]\n",
    "\n",
    "sales_series = pd.Series(sales, name=\"Sales\")\n",
    "\n",
    "print(sales_series)"
   ]
  },
  {
   "attachments": {},
   "cell_type": "markdown",
   "id": "d648d625",
   "metadata": {},
   "source": [
    "### Series Properties\n",
    "\n",
    "Pandas Series have these key properties:\n",
    "* `values` - the data array in the Series\n",
    "* `index` - the index array in the Series\n",
    "* `name` - the optional name for the Series (_useful for accessing columns in a DataFrame_)\n",
    "* `dtype` - the data type of the elements in the values array"
   ]
  },
  {
   "cell_type": "code",
   "execution_count": 3,
   "id": "201c04c0",
   "metadata": {},
   "outputs": [
    {
     "data": {
      "text/plain": [
       "array([   0,    5,  155,    0,  518,    0, 1827,  616,  317,  325])"
      ]
     },
     "execution_count": 3,
     "metadata": {},
     "output_type": "execute_result"
    }
   ],
   "source": [
    "sales_series.values "
   ]
  },
  {
   "cell_type": "code",
   "execution_count": 4,
   "id": "990bbd58",
   "metadata": {},
   "outputs": [
    {
     "data": {
      "text/plain": [
       "RangeIndex(start=0, stop=10, step=1)"
      ]
     },
     "execution_count": 4,
     "metadata": {},
     "output_type": "execute_result"
    }
   ],
   "source": [
    "sales_series.index"
   ]
  },
  {
   "cell_type": "code",
   "execution_count": 5,
   "id": "44315820",
   "metadata": {},
   "outputs": [
    {
     "data": {
      "text/plain": [
       "'Sales'"
      ]
     },
     "execution_count": 5,
     "metadata": {},
     "output_type": "execute_result"
    }
   ],
   "source": [
    "sales_series.name"
   ]
  },
  {
   "cell_type": "code",
   "execution_count": 6,
   "id": "9e512ddd",
   "metadata": {},
   "outputs": [
    {
     "data": {
      "text/plain": [
       "dtype('int64')"
      ]
     },
     "execution_count": 6,
     "metadata": {},
     "output_type": "execute_result"
    }
   ],
   "source": [
    "sales_series.dtype"
   ]
  },
  {
   "attachments": {},
   "cell_type": "markdown",
   "id": "5a232d6d",
   "metadata": {},
   "source": [
    "#### Practice"
   ]
  },
  {
   "cell_type": "code",
   "execution_count": 8,
   "id": "d4668809",
   "metadata": {},
   "outputs": [
    {
     "data": {
      "text/plain": [
       "0    0\n",
       "1    1\n",
       "2    2\n",
       "3    3\n",
       "4    4\n",
       "Name: Test Array, dtype: int64"
      ]
     },
     "execution_count": 8,
     "metadata": {},
     "output_type": "execute_result"
    }
   ],
   "source": [
    "pd.Series(np.arange(5), name='Test Array')"
   ]
  },
  {
   "cell_type": "code",
   "execution_count": 9,
   "id": "48249efe",
   "metadata": {},
   "outputs": [],
   "source": [
    "array = np.arange(5)\n",
    "\n",
    "series = pd.Series(array)"
   ]
  },
  {
   "cell_type": "code",
   "execution_count": 10,
   "id": "247da66e",
   "metadata": {},
   "outputs": [
    {
     "data": {
      "text/plain": [
       "array([0, 1, 2, 3, 4])"
      ]
     },
     "execution_count": 10,
     "metadata": {},
     "output_type": "execute_result"
    }
   ],
   "source": [
    "# Now check out series properties\n",
    "\n",
    "series.values"
   ]
  },
  {
   "cell_type": "code",
   "execution_count": 11,
   "id": "fafc93c3",
   "metadata": {},
   "outputs": [
    {
     "data": {
      "text/plain": [
       "2.0"
      ]
     },
     "execution_count": 11,
     "metadata": {},
     "output_type": "execute_result"
    }
   ],
   "source": [
    "series.values.mean()"
   ]
  },
  {
   "cell_type": "code",
   "execution_count": 12,
   "id": "82dae4a2",
   "metadata": {},
   "outputs": [
    {
     "data": {
      "text/plain": [
       "2.0"
      ]
     },
     "execution_count": 12,
     "metadata": {},
     "output_type": "execute_result"
    }
   ],
   "source": [
    "series.mean()"
   ]
  },
  {
   "cell_type": "code",
   "execution_count": 13,
   "id": "77fa353b",
   "metadata": {},
   "outputs": [
    {
     "data": {
      "text/plain": [
       "10    0\n",
       "20    1\n",
       "30    2\n",
       "40    3\n",
       "50    4\n",
       "dtype: int64"
      ]
     },
     "execution_count": 13,
     "metadata": {},
     "output_type": "execute_result"
    }
   ],
   "source": [
    "# change the index\n",
    "\n",
    "series.index = [10, 20, 30, 40, 50]\n",
    "\n",
    "series"
   ]
  },
  {
   "cell_type": "code",
   "execution_count": 14,
   "id": "8a17ba37",
   "metadata": {},
   "outputs": [
    {
     "data": {
      "text/plain": [
       "10    0\n",
       "20    1\n",
       "30    2\n",
       "40    3\n",
       "50    4\n",
       "Name: special series, dtype: int64"
      ]
     },
     "execution_count": 14,
     "metadata": {},
     "output_type": "execute_result"
    }
   ],
   "source": [
    "series.name = 'special series'\n",
    "\n",
    "series"
   ]
  },
  {
   "attachments": {},
   "cell_type": "markdown",
   "id": "6e714194",
   "metadata": {},
   "source": [
    "## 2 - Pandas Data Types & Type Conversion\n",
    "\n",
    "* `Pandas data types` mostly expand on their base Python and NumPy equivalents\n",
    "* You can `convert the data type` in a Pandas Series by using the `.astype()` method and specifying the desired data type (_if compatible_)"
   ]
  },
  {
   "cell_type": "code",
   "execution_count": 18,
   "id": "69a94558",
   "metadata": {},
   "outputs": [
    {
     "data": {
      "text/plain": [
       "0      0\n",
       "1      5\n",
       "2    155\n",
       "3      0\n",
       "4    518\n",
       "Name: Sales, dtype: int64"
      ]
     },
     "execution_count": 18,
     "metadata": {},
     "output_type": "execute_result"
    }
   ],
   "source": [
    "sales_series = pd.Series([0, 5, 155, 0, 518], name='Sales')\n",
    "\n",
    "sales_series"
   ]
  },
  {
   "cell_type": "code",
   "execution_count": 19,
   "id": "82d0df6d",
   "metadata": {},
   "outputs": [
    {
     "data": {
      "text/plain": [
       "0      0.0\n",
       "1      5.0\n",
       "2    155.0\n",
       "3      0.0\n",
       "4    518.0\n",
       "Name: Sales, dtype: float64"
      ]
     },
     "execution_count": 19,
     "metadata": {},
     "output_type": "execute_result"
    }
   ],
   "source": [
    "sales_series.astype(\"float\")"
   ]
  },
  {
   "cell_type": "code",
   "execution_count": 20,
   "id": "b9fb0b7f",
   "metadata": {},
   "outputs": [
    {
     "data": {
      "text/plain": [
       "0    False\n",
       "1     True\n",
       "2     True\n",
       "3    False\n",
       "4     True\n",
       "Name: Sales, dtype: bool"
      ]
     },
     "execution_count": 20,
     "metadata": {},
     "output_type": "execute_result"
    }
   ],
   "source": [
    "sales_series.astype(\"bool\") # 0 is False, everything else is True"
   ]
  },
  {
   "cell_type": "code",
   "execution_count": null,
   "id": "4763bb1d",
   "metadata": {},
   "outputs": [],
   "source": [
    "sales_series.astype(\"datetime64\") \n",
    "\n",
    "# ValueError: The 'datetime64' dtype has no unit. Please pass in 'datetime64[ns]' instead."
   ]
  },
  {
   "attachments": {},
   "cell_type": "markdown",
   "id": "db957c58",
   "metadata": {},
   "source": [
    "#### Practice"
   ]
  },
  {
   "cell_type": "code",
   "execution_count": 22,
   "id": "37553b40",
   "metadata": {},
   "outputs": [
    {
     "data": {
      "text/plain": [
       "0    0\n",
       "1    1\n",
       "2    2\n",
       "3    3\n",
       "4    4\n",
       "dtype: int64"
      ]
     },
     "execution_count": 22,
     "metadata": {},
     "output_type": "execute_result"
    }
   ],
   "source": [
    "pd.Series(range(5))"
   ]
  },
  {
   "cell_type": "code",
   "execution_count": 23,
   "id": "027f3b91",
   "metadata": {},
   "outputs": [
    {
     "data": {
      "text/plain": [
       "0    False\n",
       "1     True\n",
       "2     True\n",
       "3     True\n",
       "4     True\n",
       "dtype: bool"
      ]
     },
     "execution_count": 23,
     "metadata": {},
     "output_type": "execute_result"
    }
   ],
   "source": [
    "pd.Series(range(5)).astype(\"bool\")"
   ]
  },
  {
   "cell_type": "code",
   "execution_count": 24,
   "id": "c7fb5c86",
   "metadata": {},
   "outputs": [
    {
     "data": {
      "text/plain": [
       "0    0\n",
       "1    1\n",
       "2    2\n",
       "3    3\n",
       "4    4\n",
       "dtype: object"
      ]
     },
     "execution_count": 24,
     "metadata": {},
     "output_type": "execute_result"
    }
   ],
   "source": [
    "pd.Series(range(5)).astype(\"object\") # strings are objects"
   ]
  },
  {
   "cell_type": "code",
   "execution_count": 25,
   "id": "85e29adc",
   "metadata": {},
   "outputs": [
    {
     "data": {
      "text/plain": [
       "0    0\n",
       "1    1\n",
       "2    2\n",
       "3    3\n",
       "4    4\n",
       "dtype: string"
      ]
     },
     "execution_count": 25,
     "metadata": {},
     "output_type": "execute_result"
    }
   ],
   "source": [
    "pd.Series(range(5)).astype(\"string\")"
   ]
  },
  {
   "cell_type": "code",
   "execution_count": 26,
   "id": "1ffc1e29",
   "metadata": {},
   "outputs": [
    {
     "data": {
      "text/plain": [
       "0.8"
      ]
     },
     "execution_count": 26,
     "metadata": {},
     "output_type": "execute_result"
    }
   ],
   "source": [
    "pd.Series(range(5)).astype(\"bool\").mean() # 80% of the values are True"
   ]
  },
  {
   "cell_type": "code",
   "execution_count": 27,
   "id": "4ce8699a",
   "metadata": {},
   "outputs": [
    {
     "data": {
      "text/plain": [
       "4"
      ]
     },
     "execution_count": 27,
     "metadata": {},
     "output_type": "execute_result"
    }
   ],
   "source": [
    "pd.Series(range(5)).astype(\"bool\").sum() # 4 values are True"
   ]
  },
  {
   "attachments": {},
   "cell_type": "markdown",
   "id": "31a24d50",
   "metadata": {},
   "source": [
    "# Assignment 1: Series Basics\n",
    "\n",
    "The code has been previded to create an array, `oil_array` from a dataframe column. \n",
    "\n",
    "* Convert `oil_array` into a Pandas Series, called `oil_series`. Give it a name!\n",
    "* Return the name, dtype, size, and index of `oil_series`.\n",
    "\n",
    "Take the mean of the values array. \n",
    "\n",
    "Then, convert the series to integer datatype and recalculate the mean. \n"
   ]
  },
  {
   "cell_type": "code",
   "execution_count": 96,
   "id": "df36e3d6",
   "metadata": {},
   "outputs": [
    {
     "data": {
      "text/plain": [
       "array([52.22, 51.44, 51.98, 52.01, 52.82, 54.01, 53.8 , 53.75, 52.36,\n",
       "       53.26, 53.77, 53.98, 51.95, 50.82, 52.19, 53.01, 52.36, 52.45,\n",
       "       51.12, 51.39, 52.33, 52.77, 52.38, 52.14, 53.24, 53.18, 52.63,\n",
       "       52.75, 53.9 , 53.55, 53.81, 53.01, 52.19, 52.37, 52.99, 53.84,\n",
       "       52.96, 53.21, 53.11, 53.41, 53.41, 54.02, 53.61, 54.48, 53.99,\n",
       "       54.04, 54.  , 53.82, 52.63, 53.33, 53.19, 52.68, 49.83, 48.75,\n",
       "       48.05, 47.95, 47.24, 48.34, 48.3 , 48.34, 47.79, 47.02, 47.29,\n",
       "       47.  , 47.3 , 47.02, 48.36, 49.47, 50.3 , 50.54, 50.25, 50.99,\n",
       "       51.14, 51.69, 52.25, 53.06, 53.38, 53.12, 53.19, 52.62, 52.46,\n",
       "       50.49, 50.26, 49.64, 48.9 , 49.22, 49.22, 48.96, 49.31, 48.83,\n",
       "       47.65, 47.79, 45.55, 46.23, 46.46, 45.84, 47.28, 47.81, 47.83,\n",
       "       48.86])"
      ]
     },
     "execution_count": 96,
     "metadata": {},
     "output_type": "execute_result"
    }
   ],
   "source": [
    "# create a DataFrame from the oil file, drop missing values\n",
    "oil = pd.read_csv(\"../retail/oil.csv\").dropna()\n",
    "\n",
    "# Grab 100 rows of oil prices\n",
    "oil_array = np.array(oil[\"dcoilwtico\"].iloc[1000:1100])\n",
    "\n",
    "oil_array"
   ]
  },
  {
   "cell_type": "code",
   "execution_count": 29,
   "id": "fc70abd0",
   "metadata": {},
   "outputs": [
    {
     "data": {
      "text/plain": [
       "0     52.22\n",
       "1     51.44\n",
       "2     51.98\n",
       "3     52.01\n",
       "4     52.82\n",
       "      ...  \n",
       "95    45.84\n",
       "96    47.28\n",
       "97    47.81\n",
       "98    47.83\n",
       "99    48.86\n",
       "Name: oil_prices, Length: 100, dtype: float64"
      ]
     },
     "execution_count": 29,
     "metadata": {},
     "output_type": "execute_result"
    }
   ],
   "source": [
    "# convert oil_array to a series\n",
    "\n",
    "oil_series = pd.Series(oil_array, name=\"oil_prices\")\n",
    "              \n",
    "oil_series"
   ]
  },
  {
   "cell_type": "code",
   "execution_count": 30,
   "id": "54190e1a",
   "metadata": {},
   "outputs": [
    {
     "name": "stdout",
     "output_type": "stream",
     "text": [
      "Name: oil_prices\n",
      "dtype: float64\n",
      "size: 100\n",
      "index: RangeIndex(start=0, stop=100, step=1)\n"
     ]
    }
   ],
   "source": [
    "print(f\"Name: {oil_series.name}\")\n",
    "print(f\"dtype: {oil_series.dtype}\")\n",
    "print(f\"size: {oil_series.size}\")\n",
    "print(f\"index: {oil_series.index}\")"
   ]
  },
  {
   "cell_type": "code",
   "execution_count": 31,
   "id": "7bf43cdc",
   "metadata": {},
   "outputs": [
    {
     "data": {
      "text/plain": [
       "51.128299999999996"
      ]
     },
     "execution_count": 31,
     "metadata": {},
     "output_type": "execute_result"
    }
   ],
   "source": [
    "oil_series.values.mean() # mean on the float values"
   ]
  },
  {
   "cell_type": "code",
   "execution_count": 35,
   "id": "9ecc6979",
   "metadata": {},
   "outputs": [
    {
     "data": {
      "text/plain": [
       "51.128299999999996"
      ]
     },
     "execution_count": 35,
     "metadata": {},
     "output_type": "execute_result"
    }
   ],
   "source": [
    "# we don't actually need to access the values array\n",
    "# Pandas has its own aggregate methods\n",
    "\n",
    "oil_series.mean() "
   ]
  },
  {
   "cell_type": "code",
   "execution_count": 34,
   "id": "d5bc48f2",
   "metadata": {},
   "outputs": [
    {
     "data": {
      "text/plain": [
       "50.66"
      ]
     },
     "execution_count": 34,
     "metadata": {},
     "output_type": "execute_result"
    }
   ],
   "source": [
    "oil_series.astype(\"int\").values.mean() # mean on the int values"
   ]
  },
  {
   "cell_type": "code",
   "execution_count": 36,
   "id": "52f1131b",
   "metadata": {},
   "outputs": [
    {
     "data": {
      "text/plain": [
       "50.66"
      ]
     },
     "execution_count": 36,
     "metadata": {},
     "output_type": "execute_result"
    }
   ],
   "source": [
    "# we can call the Pandas method directly on this \n",
    "\n",
    "oil_series.astype(\"int\").mean()\n",
    "\n",
    "# Next, learn how to access data within our series"
   ]
  },
  {
   "attachments": {},
   "cell_type": "markdown",
   "id": "73a2df8d",
   "metadata": {},
   "source": [
    "## 3 - The Series Index & Custom Indices\n",
    "\n",
    "* The `index` lets you easily access _\"rows\"_ in a Pandas Series or DataFrame\n",
    "* There are cases where it's applicable to use `custom index` for accessing  rows"
   ]
  },
  {
   "cell_type": "code",
   "execution_count": 37,
   "id": "c74690d6",
   "metadata": {},
   "outputs": [
    {
     "data": {
      "text/plain": [
       "0      0\n",
       "1      5\n",
       "2    155\n",
       "3      0\n",
       "4    518\n",
       "Name: Sales, dtype: int64"
      ]
     },
     "execution_count": 37,
     "metadata": {},
     "output_type": "execute_result"
    }
   ],
   "source": [
    "sales = [0, 5, 155, 0, 518]\n",
    "sales_series = pd.Series(sales, name=\"Sales\")\n",
    "sales_series"
   ]
  },
  {
   "cell_type": "code",
   "execution_count": 38,
   "id": "d26961d6",
   "metadata": {},
   "outputs": [
    {
     "data": {
      "text/plain": [
       "155"
      ]
     },
     "execution_count": 38,
     "metadata": {},
     "output_type": "execute_result"
    }
   ],
   "source": [
    "sales_series[2]"
   ]
  },
  {
   "cell_type": "code",
   "execution_count": 39,
   "id": "b1eb0a77",
   "metadata": {},
   "outputs": [
    {
     "data": {
      "text/plain": [
       "2    155\n",
       "3      0\n",
       "Name: Sales, dtype: int64"
      ]
     },
     "execution_count": 39,
     "metadata": {},
     "output_type": "execute_result"
    }
   ],
   "source": [
    "sales_series[2:4]"
   ]
  },
  {
   "attachments": {},
   "cell_type": "markdown",
   "id": "cdf9e656",
   "metadata": {},
   "source": [
    "Custom indices can be assigned when `creating the series` or `by assignment`\n",
    "* note this will become more relevant when working with `datetimes` (covered later in the course)"
   ]
  },
  {
   "cell_type": "code",
   "execution_count": 40,
   "id": "6a1aade9",
   "metadata": {},
   "outputs": [
    {
     "data": {
      "text/plain": [
       "coffee       0\n",
       "bananas      5\n",
       "tea        155\n",
       "coconut      0\n",
       "sugar      518\n",
       "Name: Sales, dtype: int64"
      ]
     },
     "execution_count": 40,
     "metadata": {},
     "output_type": "execute_result"
    }
   ],
   "source": [
    "sales = [0, 5, 155, 0, 518]\n",
    "items = [\"coffee\", \"bananas\", \"tea\", \"coconut\", \"sugar\"]\n",
    "\n",
    "sales_series = pd.Series(sales, index=items, name=\"Sales\")\n",
    "\n",
    "sales_series"
   ]
  },
  {
   "cell_type": "code",
   "execution_count": 41,
   "id": "aad432aa",
   "metadata": {},
   "outputs": [
    {
     "data": {
      "text/plain": [
       "coffee       0\n",
       "bananas      5\n",
       "tea        155\n",
       "coconut      0\n",
       "sugar      518\n",
       "Name: Sales, dtype: int64"
      ]
     },
     "execution_count": 41,
     "metadata": {},
     "output_type": "execute_result"
    }
   ],
   "source": [
    "sales_series.index = [\"coffee\", \"bananas\", \"tea\", \"coconut\", \"sugar\"]\n",
    "\n",
    "sales_series"
   ]
  },
  {
   "attachments": {},
   "cell_type": "markdown",
   "id": "d1c15699",
   "metadata": {},
   "source": [
    "You can still `index` and `slice` to retrieve Series values using the custom indices \n",
    "* _Note that slicing custom indices makes the stop point `inclusive`_"
   ]
  },
  {
   "cell_type": "code",
   "execution_count": 42,
   "id": "a6098b50",
   "metadata": {},
   "outputs": [
    {
     "data": {
      "text/plain": [
       "155"
      ]
     },
     "execution_count": 42,
     "metadata": {},
     "output_type": "execute_result"
    }
   ],
   "source": [
    "sales_series[\"tea\"]"
   ]
  },
  {
   "cell_type": "code",
   "execution_count": 43,
   "id": "ab638882",
   "metadata": {},
   "outputs": [
    {
     "data": {
      "text/plain": [
       "bananas      5\n",
       "tea        155\n",
       "coconut      0\n",
       "Name: Sales, dtype: int64"
      ]
     },
     "execution_count": 43,
     "metadata": {},
     "output_type": "execute_result"
    }
   ],
   "source": [
    "sales_series[\"bananas\":\"coconut\"]"
   ]
  },
  {
   "attachments": {},
   "cell_type": "markdown",
   "id": "19d8baf1",
   "metadata": {},
   "source": [
    "#### Practice"
   ]
  },
  {
   "cell_type": "code",
   "execution_count": 44,
   "id": "8c2ec3d3",
   "metadata": {},
   "outputs": [
    {
     "data": {
      "text/plain": [
       "0    0\n",
       "1    1\n",
       "2    2\n",
       "3    3\n",
       "4    4\n",
       "dtype: int64"
      ]
     },
     "execution_count": 44,
     "metadata": {},
     "output_type": "execute_result"
    }
   ],
   "source": [
    "my_series = pd.Series(range(5))\n",
    "\n",
    "my_series"
   ]
  },
  {
   "cell_type": "code",
   "execution_count": 45,
   "id": "893a4006",
   "metadata": {},
   "outputs": [
    {
     "data": {
      "text/plain": [
       "1    1\n",
       "3    3\n",
       "dtype: int64"
      ]
     },
     "execution_count": 45,
     "metadata": {},
     "output_type": "execute_result"
    }
   ],
   "source": [
    "my_series[1::2]"
   ]
  },
  {
   "cell_type": "code",
   "execution_count": 46,
   "id": "b4a6514a",
   "metadata": {},
   "outputs": [
    {
     "data": {
      "text/plain": [
       "Day0    0\n",
       "Day1    1\n",
       "Day2    2\n",
       "Day3    3\n",
       "Day4    4\n",
       "dtype: int64"
      ]
     },
     "execution_count": 46,
     "metadata": {},
     "output_type": "execute_result"
    }
   ],
   "source": [
    "my_series = pd.Series(range(5), index=[\"Day0\", \"Day1\", \"Day2\", \"Day3\", \"Day4\"])\n",
    "\n",
    "my_series"
   ]
  },
  {
   "cell_type": "code",
   "execution_count": 48,
   "id": "a17bfdb5",
   "metadata": {},
   "outputs": [
    {
     "data": {
      "text/plain": [
       "Day2    2\n",
       "Day3    3\n",
       "Day4    4\n",
       "dtype: int64"
      ]
     },
     "execution_count": 48,
     "metadata": {},
     "output_type": "execute_result"
    }
   ],
   "source": [
    "my_series[\"Day2\":\"Day4\"]"
   ]
  },
  {
   "cell_type": "code",
   "execution_count": 49,
   "id": "5a1fc851",
   "metadata": {},
   "outputs": [
    {
     "data": {
      "text/plain": [
       "Day0    0\n",
       "Day2    2\n",
       "Day4    4\n",
       "dtype: int64"
      ]
     },
     "execution_count": 49,
     "metadata": {},
     "output_type": "execute_result"
    }
   ],
   "source": [
    "my_series[::2]"
   ]
  },
  {
   "cell_type": "code",
   "execution_count": 50,
   "id": "914da785",
   "metadata": {},
   "outputs": [
    {
     "data": {
      "text/plain": [
       "Day4    4\n",
       "Day3    3\n",
       "Day2    2\n",
       "Day1    1\n",
       "Day0    0\n",
       "dtype: int64"
      ]
     },
     "execution_count": 50,
     "metadata": {},
     "output_type": "execute_result"
    }
   ],
   "source": [
    "my_series[::-1]"
   ]
  },
  {
   "attachments": {},
   "cell_type": "markdown",
   "id": "fef1dcde",
   "metadata": {},
   "source": [
    "## 4 - The `.iloc` Accessor\n",
    "\n",
    "The `.iloc[]` method is the preferred way to access values by their `positional index`\n",
    "* This method works even when Series have a custom, non-integer index\n",
    "* It is more efficient than slicing and is recommended by Pandas' creators\n",
    "\n",
    "\n",
    "`df.iloc[row position, column position]`\n",
    "* `df` - Series or DataFrame to access values from \n",
    "* `row position` - The row position(s) for the value(s) you want to access, examples:\n",
    "    * _`0` (single row)_\n",
    "    * _`[5,9]` (multiple rows)_\n",
    "    * _`[0:11]` (range of rows)_\n"
   ]
  },
  {
   "cell_type": "code",
   "execution_count": 51,
   "id": "351c7521",
   "metadata": {},
   "outputs": [
    {
     "data": {
      "text/plain": [
       "coffee       0\n",
       "bananas      5\n",
       "tea        155\n",
       "coconut      0\n",
       "sugar      518\n",
       "Name: Sales, dtype: int64"
      ]
     },
     "execution_count": 51,
     "metadata": {},
     "output_type": "execute_result"
    }
   ],
   "source": [
    "sales_series"
   ]
  },
  {
   "cell_type": "code",
   "execution_count": 52,
   "id": "900549fc",
   "metadata": {},
   "outputs": [
    {
     "data": {
      "text/plain": [
       "155"
      ]
     },
     "execution_count": 52,
     "metadata": {},
     "output_type": "execute_result"
    }
   ],
   "source": [
    "# This returns the value in the third position (0-indexed)\n",
    "# even though the custom index for that value is \"tea\"\n",
    "\n",
    "sales_series.iloc[2]"
   ]
  },
  {
   "cell_type": "code",
   "execution_count": 53,
   "id": "11653ba7",
   "metadata": {},
   "outputs": [
    {
     "data": {
      "text/plain": [
       "tea        155\n",
       "coconut      0\n",
       "Name: Sales, dtype: int64"
      ]
     },
     "execution_count": 53,
     "metadata": {},
     "output_type": "execute_result"
    }
   ],
   "source": [
    "# This returns the values from the third to the fourth position (stop is non-inclusive)\n",
    "\n",
    "sales_series.iloc[2:4]"
   ]
  },
  {
   "attachments": {},
   "cell_type": "markdown",
   "id": "e1c59eae",
   "metadata": {},
   "source": [
    "#### Practice"
   ]
  },
  {
   "cell_type": "code",
   "execution_count": 54,
   "id": "0316c313",
   "metadata": {},
   "outputs": [
    {
     "data": {
      "text/plain": [
       "Day0    0\n",
       "Day1    1\n",
       "Day2    2\n",
       "Day3    3\n",
       "Day4    4\n",
       "dtype: int64"
      ]
     },
     "execution_count": 54,
     "metadata": {},
     "output_type": "execute_result"
    }
   ],
   "source": [
    "my_series = pd.Series(\n",
    "    [0, 1, 2, 3, 4], index=[\"Day0\", \"Day1\", \"Day2\", \"Day3\", \"Day4\"]\n",
    ")\n",
    "\n",
    "my_series"
   ]
  },
  {
   "cell_type": "code",
   "execution_count": 55,
   "id": "65f5dae6",
   "metadata": {},
   "outputs": [
    {
     "data": {
      "text/plain": [
       "2"
      ]
     },
     "execution_count": 55,
     "metadata": {},
     "output_type": "execute_result"
    }
   ],
   "source": [
    "# grab the 3rd row\n",
    "\n",
    "my_series.iloc[2]"
   ]
  },
  {
   "cell_type": "code",
   "execution_count": 56,
   "id": "5f8eaa59",
   "metadata": {},
   "outputs": [
    {
     "data": {
      "text/plain": [
       "4"
      ]
     },
     "execution_count": 56,
     "metadata": {},
     "output_type": "execute_result"
    }
   ],
   "source": [
    "# grab the last row\n",
    "\n",
    "my_series.iloc[-1]"
   ]
  },
  {
   "cell_type": "code",
   "execution_count": 58,
   "id": "62930ade",
   "metadata": {},
   "outputs": [
    {
     "data": {
      "text/plain": [
       "Day1    1\n",
       "Day3    3\n",
       "Day4    4\n",
       "dtype: int64"
      ]
     },
     "execution_count": 58,
     "metadata": {},
     "output_type": "execute_result"
    }
   ],
   "source": [
    "my_series.iloc[[1, 3, 4]] # non-consecutive rows"
   ]
  },
  {
   "cell_type": "code",
   "execution_count": 60,
   "id": "a65d4d3d",
   "metadata": {},
   "outputs": [
    {
     "data": {
      "text/plain": [
       "Day1    1\n",
       "Day2    2\n",
       "Day3    3\n",
       "dtype: int64"
      ]
     },
     "execution_count": 60,
     "metadata": {},
     "output_type": "execute_result"
    }
   ],
   "source": [
    "my_series.iloc[1:4] # all the rows between the index 1 and 4"
   ]
  },
  {
   "cell_type": "code",
   "execution_count": 61,
   "id": "dc57241c",
   "metadata": {},
   "outputs": [
    {
     "data": {
      "text/plain": [
       "Day1    1\n",
       "Day2    2\n",
       "Day3    3\n",
       "Day4    4\n",
       "dtype: int64"
      ]
     },
     "execution_count": 61,
     "metadata": {},
     "output_type": "execute_result"
    }
   ],
   "source": [
    "# equivlent to above\n",
    "\n",
    "my_series.iloc[1:] "
   ]
  },
  {
   "attachments": {},
   "cell_type": "markdown",
   "id": "811ef42f",
   "metadata": {},
   "source": [
    "## 5 - The `.loc` Accessor\n",
    "\n",
    "The `.loc[]` method is the preferred way to access values by their custom `labels`\n",
    "\n",
    "`df.loc[row label, column label]`\n",
    "\n",
    "* `row label` -- The custom row index for the value(s) you want to access, examples:\n",
    "    * _`\"pizza\"` (single row)_\n",
    "    * _`[\"mike\",\"ike\"]` (multiple rows)_\n",
    "    * _`[\"jan\":\"dec\"]` (range of rows)_\n",
    "\n",
    "**The `.loc[]` method works even when the indices are integers, but if they are custom integers not ordered from 0 to n-1, the rows will be returned based on the `labels` themselves and NOT their numeric position**"
   ]
  },
  {
   "cell_type": "code",
   "execution_count": 62,
   "id": "2c96a929",
   "metadata": {},
   "outputs": [
    {
     "data": {
      "text/plain": [
       "coffee       0\n",
       "bananas      5\n",
       "tea        155\n",
       "coconut      0\n",
       "sugar      518\n",
       "Name: Sales, dtype: int64"
      ]
     },
     "execution_count": 62,
     "metadata": {},
     "output_type": "execute_result"
    }
   ],
   "source": [
    "sales_series"
   ]
  },
  {
   "cell_type": "code",
   "execution_count": 63,
   "id": "f5c00ed4",
   "metadata": {},
   "outputs": [
    {
     "data": {
      "text/plain": [
       "155"
      ]
     },
     "execution_count": 63,
     "metadata": {},
     "output_type": "execute_result"
    }
   ],
   "source": [
    "sales_series.loc[\"tea\"]"
   ]
  },
  {
   "cell_type": "code",
   "execution_count": 64,
   "id": "c4595c03",
   "metadata": {},
   "outputs": [
    {
     "data": {
      "text/plain": [
       "bananas      5\n",
       "tea        155\n",
       "coconut      0\n",
       "Name: Sales, dtype: int64"
      ]
     },
     "execution_count": 64,
     "metadata": {},
     "output_type": "execute_result"
    }
   ],
   "source": [
    "# Note that slices are inclusive when using custom labels \n",
    "\n",
    "sales_series.loc[\"bananas\":\"coconut\"] "
   ]
  },
  {
   "attachments": {},
   "cell_type": "markdown",
   "id": "860efc99",
   "metadata": {},
   "source": [
    "#### Practice"
   ]
  },
  {
   "cell_type": "code",
   "execution_count": 65,
   "id": "cadb4846",
   "metadata": {},
   "outputs": [
    {
     "data": {
      "text/plain": [
       "Day0    0\n",
       "Day1    1\n",
       "Day2    2\n",
       "Day3    3\n",
       "Day4    4\n",
       "dtype: int64"
      ]
     },
     "execution_count": 65,
     "metadata": {},
     "output_type": "execute_result"
    }
   ],
   "source": [
    "my_series = pd.Series(\n",
    "    [0, 1, 2, 3, 4], index=[\"Day0\", \"Day1\", \"Day2\", \"Day3\", \"Day4\"]\n",
    ")\n",
    "\n",
    "my_series"
   ]
  },
  {
   "cell_type": "code",
   "execution_count": 66,
   "id": "b74ca17a",
   "metadata": {},
   "outputs": [
    {
     "data": {
      "text/plain": [
       "2"
      ]
     },
     "execution_count": 66,
     "metadata": {},
     "output_type": "execute_result"
    }
   ],
   "source": [
    "my_series.loc[\"Day2\"]"
   ]
  },
  {
   "cell_type": "code",
   "execution_count": 67,
   "id": "f0ca84ce",
   "metadata": {},
   "outputs": [
    {
     "data": {
      "text/plain": [
       "Day1    1\n",
       "Day2    2\n",
       "Day3    3\n",
       "dtype: int64"
      ]
     },
     "execution_count": 67,
     "metadata": {},
     "output_type": "execute_result"
    }
   ],
   "source": [
    "my_series.loc[\"Day1\": \"Day3\"] # range of rows including the stop"
   ]
  },
  {
   "cell_type": "code",
   "execution_count": 68,
   "id": "e6c5138c",
   "metadata": {},
   "outputs": [],
   "source": [
    "my_series.index = [0, 2, 3, 100, 5] # update to an integer based index"
   ]
  },
  {
   "cell_type": "code",
   "execution_count": 69,
   "id": "6b439170",
   "metadata": {},
   "outputs": [
    {
     "data": {
      "text/plain": [
       "0    0\n",
       "2    1\n",
       "3    2\n",
       "dtype: int64"
      ]
     },
     "execution_count": 69,
     "metadata": {},
     "output_type": "execute_result"
    }
   ],
   "source": [
    "# slicing from the beginning to index 3\n",
    "\n",
    "my_series.loc[0:3]"
   ]
  },
  {
   "cell_type": "code",
   "execution_count": 70,
   "id": "ed3becab",
   "metadata": {},
   "outputs": [
    {
     "data": {
      "text/plain": [
       "0      0\n",
       "2      1\n",
       "3      2\n",
       "100    3\n",
       "5      4\n",
       "dtype: int64"
      ]
     },
     "execution_count": 70,
     "metadata": {},
     "output_type": "execute_result"
    }
   ],
   "source": [
    "# grabbing everything in between of 0 and 5 including 100\n",
    "\n",
    "my_series.loc[0:5]"
   ]
  },
  {
   "cell_type": "code",
   "execution_count": 71,
   "id": "fd7785b8",
   "metadata": {},
   "outputs": [
    {
     "data": {
      "text/plain": [
       "0    0\n",
       "1    1\n",
       "2    2\n",
       "3    3\n",
       "4    4\n",
       "dtype: int64"
      ]
     },
     "execution_count": 71,
     "metadata": {},
     "output_type": "execute_result"
    }
   ],
   "source": [
    "my_series.reset_index(drop=True) # reset the index to the default"
   ]
  },
  {
   "cell_type": "code",
   "execution_count": 72,
   "id": "07a59f1d",
   "metadata": {},
   "outputs": [
    {
     "data": {
      "text/plain": [
       "0    0\n",
       "1    1\n",
       "2    2\n",
       "3    3\n",
       "dtype: int64"
      ]
     },
     "execution_count": 72,
     "metadata": {},
     "output_type": "execute_result"
    }
   ],
   "source": [
    "my_series.reset_index(drop=True).loc[0:3] # now we can slice from 0 to 3"
   ]
  },
  {
   "cell_type": "code",
   "execution_count": 73,
   "id": "dad5de02",
   "metadata": {},
   "outputs": [
    {
     "data": {
      "text/plain": [
       "0      0\n",
       "2      1\n",
       "100    3\n",
       "5      4\n",
       "dtype: int64"
      ]
     },
     "execution_count": 73,
     "metadata": {},
     "output_type": "execute_result"
    }
   ],
   "source": [
    "# filter out the value 2\n",
    "\n",
    "my_series[my_series != 2]"
   ]
  },
  {
   "attachments": {},
   "cell_type": "markdown",
   "id": "01fb8e3c",
   "metadata": {},
   "source": [
    "## 6 - Duplicate Index Values & Resetting The Index"
   ]
  },
  {
   "attachments": {},
   "cell_type": "markdown",
   "id": "2c292eaa",
   "metadata": {},
   "source": [
    "### Duplicate Index Values\n",
    "\n",
    "It is possible to have `duplicate index values` in a Pandas Series or DataFrame\n",
    "* Accessing these indices by their label using `.loc[]` returns all corresponding rows "
   ]
  },
  {
   "cell_type": "code",
   "execution_count": 74,
   "id": "6b4b3f34",
   "metadata": {},
   "outputs": [
    {
     "data": {
      "text/plain": [
       "coffee       0\n",
       "coffee       5\n",
       "tea        155\n",
       "coconut      0\n",
       "sugar      518\n",
       "Name: Sales, dtype: int64"
      ]
     },
     "execution_count": 74,
     "metadata": {},
     "output_type": "execute_result"
    }
   ],
   "source": [
    "sales = [0, 5, 155, 0, 518]\n",
    "items = [\"coffee\", \"coffee\", \"tea\", \"coconut\", \"sugar\"]\n",
    "\n",
    "sales_series = pd.Series(sales, index=items, name=\"Sales\")\n",
    "\n",
    "sales_series"
   ]
  },
  {
   "attachments": {},
   "cell_type": "markdown",
   "id": "6970290f",
   "metadata": {},
   "source": [
    "This returns both rows with the same label\n",
    "\n",
    "Warning! Duplicate index values are **generally not advised**, but there are some edge cases where they are useful"
   ]
  },
  {
   "cell_type": "code",
   "execution_count": 76,
   "id": "1edcb103",
   "metadata": {},
   "outputs": [
    {
     "data": {
      "text/plain": [
       "coffee    0\n",
       "coffee    5\n",
       "Name: Sales, dtype: int64"
      ]
     },
     "execution_count": 76,
     "metadata": {},
     "output_type": "execute_result"
    }
   ],
   "source": [
    "sales_series.loc[\"coffee\"]"
   ]
  },
  {
   "attachments": {},
   "cell_type": "markdown",
   "id": "e43bd13f",
   "metadata": {},
   "source": [
    "### Resetting The Index\n",
    "\n",
    "You can `reset the index` in a Pandas Series or DataFrame back to the default range of integers by using the `.reset_index()` method\n",
    "* By default, the existing index will become a new column in a DataFrame"
   ]
  },
  {
   "cell_type": "code",
   "execution_count": 77,
   "id": "7695ac59",
   "metadata": {},
   "outputs": [
    {
     "data": {
      "text/plain": [
       "coffee       0\n",
       "coffee       5\n",
       "tea        155\n",
       "coconut      0\n",
       "sugar      518\n",
       "Name: Sales, dtype: int64"
      ]
     },
     "execution_count": 77,
     "metadata": {},
     "output_type": "execute_result"
    }
   ],
   "source": [
    "sales_series"
   ]
  },
  {
   "cell_type": "code",
   "execution_count": 78,
   "id": "ef666bcc",
   "metadata": {},
   "outputs": [
    {
     "data": {
      "text/html": [
       "<div>\n",
       "<style scoped>\n",
       "    .dataframe tbody tr th:only-of-type {\n",
       "        vertical-align: middle;\n",
       "    }\n",
       "\n",
       "    .dataframe tbody tr th {\n",
       "        vertical-align: top;\n",
       "    }\n",
       "\n",
       "    .dataframe thead th {\n",
       "        text-align: right;\n",
       "    }\n",
       "</style>\n",
       "<table border=\"1\" class=\"dataframe\">\n",
       "  <thead>\n",
       "    <tr style=\"text-align: right;\">\n",
       "      <th></th>\n",
       "      <th>index</th>\n",
       "      <th>Sales</th>\n",
       "    </tr>\n",
       "  </thead>\n",
       "  <tbody>\n",
       "    <tr>\n",
       "      <th>0</th>\n",
       "      <td>coffee</td>\n",
       "      <td>0</td>\n",
       "    </tr>\n",
       "    <tr>\n",
       "      <th>1</th>\n",
       "      <td>coffee</td>\n",
       "      <td>5</td>\n",
       "    </tr>\n",
       "    <tr>\n",
       "      <th>2</th>\n",
       "      <td>tea</td>\n",
       "      <td>155</td>\n",
       "    </tr>\n",
       "    <tr>\n",
       "      <th>3</th>\n",
       "      <td>coconut</td>\n",
       "      <td>0</td>\n",
       "    </tr>\n",
       "    <tr>\n",
       "      <th>4</th>\n",
       "      <td>sugar</td>\n",
       "      <td>518</td>\n",
       "    </tr>\n",
       "  </tbody>\n",
       "</table>\n",
       "</div>"
      ],
      "text/plain": [
       "     index  Sales\n",
       "0   coffee      0\n",
       "1   coffee      5\n",
       "2      tea    155\n",
       "3  coconut      0\n",
       "4    sugar    518"
      ]
     },
     "execution_count": 78,
     "metadata": {},
     "output_type": "execute_result"
    }
   ],
   "source": [
    "sales_series.reset_index()"
   ]
  },
  {
   "attachments": {},
   "cell_type": "markdown",
   "id": "0f072f56",
   "metadata": {},
   "source": [
    "_Use `drop=True` when resetting the index if you don't want the previous index values stored_"
   ]
  },
  {
   "cell_type": "code",
   "execution_count": 79,
   "id": "67b93858",
   "metadata": {},
   "outputs": [
    {
     "data": {
      "text/plain": [
       "0      0\n",
       "1      5\n",
       "2    155\n",
       "3      0\n",
       "4    518\n",
       "Name: Sales, dtype: int64"
      ]
     },
     "execution_count": 79,
     "metadata": {},
     "output_type": "execute_result"
    }
   ],
   "source": [
    "sales_series.reset_index(drop=True)"
   ]
  },
  {
   "attachments": {},
   "cell_type": "markdown",
   "id": "96b0c1ae",
   "metadata": {},
   "source": [
    "#### Practice"
   ]
  },
  {
   "cell_type": "code",
   "execution_count": 80,
   "id": "e09d6c7b",
   "metadata": {},
   "outputs": [
    {
     "data": {
      "text/plain": [
       "Index(['day 0', 'day 0', 'day 0', 'day 2', 'day 2'], dtype='object')"
      ]
     },
     "execution_count": 80,
     "metadata": {},
     "output_type": "execute_result"
    }
   ],
   "source": [
    "my_series = pd.Series([0, 1, 2, 3, 4], index=[\"day 0\", \"day 0\", \"day 0\", \"day 2\", \"day 2\"])\n",
    "\n",
    "my_series.index"
   ]
  },
  {
   "cell_type": "code",
   "execution_count": 81,
   "id": "9a89917a",
   "metadata": {},
   "outputs": [
    {
     "data": {
      "text/plain": [
       "day 0    0\n",
       "day 0    1\n",
       "day 0    2\n",
       "dtype: int64"
      ]
     },
     "execution_count": 81,
     "metadata": {},
     "output_type": "execute_result"
    }
   ],
   "source": [
    "my_series[\"day 0\"]"
   ]
  },
  {
   "cell_type": "code",
   "execution_count": 82,
   "id": "e1ca52a2",
   "metadata": {},
   "outputs": [
    {
     "data": {
      "text/plain": [
       "day 0    0\n",
       "day 0    1\n",
       "day 0    2\n",
       "day 2    3\n",
       "day 2    4\n",
       "dtype: int64"
      ]
     },
     "execution_count": 82,
     "metadata": {},
     "output_type": "execute_result"
    }
   ],
   "source": [
    "# end up with all of the rows\n",
    "\n",
    "my_series[\"day 0\":\"day 2\"]"
   ]
  },
  {
   "cell_type": "code",
   "execution_count": 83,
   "id": "77531e30",
   "metadata": {},
   "outputs": [
    {
     "data": {
      "text/plain": [
       "1"
      ]
     },
     "execution_count": 83,
     "metadata": {},
     "output_type": "execute_result"
    }
   ],
   "source": [
    "# need to pass in a second index to further slice the data (inconvinient)\n",
    "\n",
    "my_series[\"day 0\"][1]"
   ]
  },
  {
   "cell_type": "code",
   "execution_count": 84,
   "id": "eb04ac20",
   "metadata": {},
   "outputs": [
    {
     "data": {
      "text/html": [
       "<div>\n",
       "<style scoped>\n",
       "    .dataframe tbody tr th:only-of-type {\n",
       "        vertical-align: middle;\n",
       "    }\n",
       "\n",
       "    .dataframe tbody tr th {\n",
       "        vertical-align: top;\n",
       "    }\n",
       "\n",
       "    .dataframe thead th {\n",
       "        text-align: right;\n",
       "    }\n",
       "</style>\n",
       "<table border=\"1\" class=\"dataframe\">\n",
       "  <thead>\n",
       "    <tr style=\"text-align: right;\">\n",
       "      <th></th>\n",
       "      <th>index</th>\n",
       "      <th>0</th>\n",
       "    </tr>\n",
       "  </thead>\n",
       "  <tbody>\n",
       "    <tr>\n",
       "      <th>0</th>\n",
       "      <td>day 0</td>\n",
       "      <td>0</td>\n",
       "    </tr>\n",
       "    <tr>\n",
       "      <th>1</th>\n",
       "      <td>day 0</td>\n",
       "      <td>1</td>\n",
       "    </tr>\n",
       "    <tr>\n",
       "      <th>2</th>\n",
       "      <td>day 0</td>\n",
       "      <td>2</td>\n",
       "    </tr>\n",
       "    <tr>\n",
       "      <th>3</th>\n",
       "      <td>day 2</td>\n",
       "      <td>3</td>\n",
       "    </tr>\n",
       "    <tr>\n",
       "      <th>4</th>\n",
       "      <td>day 2</td>\n",
       "      <td>4</td>\n",
       "    </tr>\n",
       "  </tbody>\n",
       "</table>\n",
       "</div>"
      ],
      "text/plain": [
       "   index  0\n",
       "0  day 0  0\n",
       "1  day 0  1\n",
       "2  day 0  2\n",
       "3  day 2  3\n",
       "4  day 2  4"
      ]
     },
     "execution_count": 84,
     "metadata": {},
     "output_type": "execute_result"
    }
   ],
   "source": [
    "# reset and get a much more workable index\n",
    "\n",
    "my_series.reset_index()"
   ]
  },
  {
   "cell_type": "code",
   "execution_count": 85,
   "id": "bdb3eefd",
   "metadata": {},
   "outputs": [
    {
     "data": {
      "text/plain": [
       "0    0\n",
       "1    1\n",
       "2    2\n",
       "3    3\n",
       "4    4\n",
       "dtype: int64"
      ]
     },
     "execution_count": 85,
     "metadata": {},
     "output_type": "execute_result"
    }
   ],
   "source": [
    "my_series.reset_index(drop=True)"
   ]
  },
  {
   "cell_type": "code",
   "execution_count": 86,
   "id": "8308716c",
   "metadata": {},
   "outputs": [
    {
     "data": {
      "text/plain": [
       "2"
      ]
     },
     "execution_count": 86,
     "metadata": {},
     "output_type": "execute_result"
    }
   ],
   "source": [
    "my_series.reset_index(drop=True).loc[2]"
   ]
  },
  {
   "cell_type": "code",
   "execution_count": 87,
   "id": "e923e261",
   "metadata": {},
   "outputs": [
    {
     "data": {
      "text/plain": [
       "2"
      ]
     },
     "execution_count": 87,
     "metadata": {},
     "output_type": "execute_result"
    }
   ],
   "source": [
    "my_series.reset_index(drop=True).iloc[2]"
   ]
  },
  {
   "cell_type": "code",
   "execution_count": 88,
   "id": "7a29e393",
   "metadata": {},
   "outputs": [
    {
     "data": {
      "text/plain": [
       "2    2\n",
       "3    3\n",
       "4    4\n",
       "dtype: int64"
      ]
     },
     "execution_count": 88,
     "metadata": {},
     "output_type": "execute_result"
    }
   ],
   "source": [
    "my_series.reset_index(drop=True).loc[2:4]"
   ]
  },
  {
   "cell_type": "code",
   "execution_count": 89,
   "id": "8f9428ee",
   "metadata": {},
   "outputs": [
    {
     "data": {
      "text/plain": [
       "2    2\n",
       "3    3\n",
       "dtype: int64"
      ]
     },
     "execution_count": 89,
     "metadata": {},
     "output_type": "execute_result"
    }
   ],
   "source": [
    "my_series.reset_index(drop=True).iloc[2:4]"
   ]
  },
  {
   "attachments": {},
   "cell_type": "markdown",
   "id": "663f2bda",
   "metadata": {},
   "source": [
    "# Assignment 2:  Accessing Series Data\n",
    "\n",
    "* Set the date series, which has been created below, to be the index of the oil price series created in assignment 1.\n",
    "\n",
    "\n",
    "* Then, take the mean of the first 10 and last 10 prices of the series.\n",
    "\n",
    "\n",
    "* Finally, grab all oil prices from January 1st, 2017 - January 7th, 2017 (inclusive) and set the index to the default integer index."
   ]
  },
  {
   "cell_type": "code",
   "execution_count": 97,
   "id": "cad8001a",
   "metadata": {},
   "outputs": [],
   "source": [
    "# extract date column from oil DataFrame and grab first 100 rows\n",
    "\n",
    "dates = pd.Series(oil[\"date\"]).iloc[1000:1100]"
   ]
  },
  {
   "cell_type": "code",
   "execution_count": 98,
   "id": "49b55b99",
   "metadata": {},
   "outputs": [
    {
     "data": {
      "text/plain": [
       "date\n",
       "2016-12-20    52.22\n",
       "2016-12-21    51.44\n",
       "2016-12-22    51.98\n",
       "2016-12-23    52.01\n",
       "2016-12-27    52.82\n",
       "              ...  \n",
       "2017-05-09    45.84\n",
       "2017-05-10    47.28\n",
       "2017-05-11    47.81\n",
       "2017-05-12    47.83\n",
       "2017-05-15    48.86\n",
       "Name: oil_prices, Length: 100, dtype: float64"
      ]
     },
     "execution_count": 98,
     "metadata": {},
     "output_type": "execute_result"
    }
   ],
   "source": [
    "oil_series.index = dates\n",
    "\n",
    "oil_series"
   ]
  },
  {
   "cell_type": "code",
   "execution_count": 99,
   "id": "801aae04",
   "metadata": {},
   "outputs": [
    {
     "data": {
      "text/plain": [
       "date\n",
       "2016-12-20    52.22\n",
       "2016-12-21    51.44\n",
       "2016-12-22    51.98\n",
       "2016-12-23    52.01\n",
       "2016-12-27    52.82\n",
       "2016-12-28    54.01\n",
       "2016-12-29    53.80\n",
       "2016-12-30    53.75\n",
       "2017-01-03    52.36\n",
       "2017-01-04    53.26\n",
       "Name: oil_prices, dtype: float64"
      ]
     },
     "execution_count": 99,
     "metadata": {},
     "output_type": "execute_result"
    }
   ],
   "source": [
    "oil_series.iloc[:10]"
   ]
  },
  {
   "cell_type": "code",
   "execution_count": 100,
   "id": "44aa48a6",
   "metadata": {},
   "outputs": [
    {
     "data": {
      "text/plain": [
       "52.765"
      ]
     },
     "execution_count": 100,
     "metadata": {},
     "output_type": "execute_result"
    }
   ],
   "source": [
    "# Mean of first 10 prices \n",
    "\n",
    "oil_series.iloc[:10].mean()"
   ]
  },
  {
   "cell_type": "code",
   "execution_count": 101,
   "id": "3f62e1ce",
   "metadata": {},
   "outputs": [
    {
     "data": {
      "text/plain": [
       "47.13"
      ]
     },
     "execution_count": 101,
     "metadata": {},
     "output_type": "execute_result"
    }
   ],
   "source": [
    "# Mean of last 10 prices\n",
    "\n",
    "oil_series.iloc[-10:].mean()"
   ]
  },
  {
   "cell_type": "code",
   "execution_count": 102,
   "id": "2485f044",
   "metadata": {},
   "outputs": [
    {
     "data": {
      "text/plain": [
       "0    52.36\n",
       "1    53.26\n",
       "2    53.77\n",
       "3    53.98\n",
       "Name: oil_prices, dtype: float64"
      ]
     },
     "execution_count": 102,
     "metadata": {},
     "output_type": "execute_result"
    }
   ],
   "source": [
    "# Slice labels using loc, reset index and drop dates to return series w/ integer index\n",
    "\n",
    "oil_series.loc[\"2017-01-01\":\"2017-01-07\"].reset_index(drop=True)\n"
   ]
  },
  {
   "attachments": {},
   "cell_type": "markdown",
   "id": "c147b96d",
   "metadata": {},
   "source": [
    "## 7 - Filtering Series & Logical Tests\n",
    "\n",
    "You can `filter a Series` by passing a logical test into the `.loc[]` accessor (_like arrays!_)"
   ]
  },
  {
   "cell_type": "code",
   "execution_count": 103,
   "id": "7ffb3d34",
   "metadata": {},
   "outputs": [
    {
     "data": {
      "text/plain": [
       "coffee       0\n",
       "coffee       5\n",
       "tea        155\n",
       "coconut      0\n",
       "sugar      518\n",
       "Name: Sales, dtype: int64"
      ]
     },
     "execution_count": 103,
     "metadata": {},
     "output_type": "execute_result"
    }
   ],
   "source": [
    "sales_series"
   ]
  },
  {
   "cell_type": "code",
   "execution_count": 104,
   "id": "5862d0d3",
   "metadata": {},
   "outputs": [
    {
     "data": {
      "text/plain": [
       "coffee      5\n",
       "tea       155\n",
       "sugar     518\n",
       "Name: Sales, dtype: int64"
      ]
     },
     "execution_count": 104,
     "metadata": {},
     "output_type": "execute_result"
    }
   ],
   "source": [
    "# This returns all rows from sales_series with a value greater than 0\n",
    "\n",
    "sales_series.loc[sales_series > 0] "
   ]
  },
  {
   "cell_type": "code",
   "execution_count": 105,
   "id": "b6954b05",
   "metadata": {},
   "outputs": [
    {
     "data": {
      "text/plain": [
       "coffee    5\n",
       "Name: Sales, dtype: int64"
      ]
     },
     "execution_count": 105,
     "metadata": {},
     "output_type": "execute_result"
    }
   ],
   "source": [
    "mask = (sales_series > 0) & (sales_series.index == \"coffee\")\n",
    "\n",
    "sales_series.loc[mask]"
   ]
  },
  {
   "attachments": {},
   "cell_type": "markdown",
   "id": "04918eaa",
   "metadata": {},
   "source": [
    "### Logical Operators & Methods\n",
    "\n",
    "You can use these `operators` & `methods` to create Boolean filters for logical tests\n",
    "\n",
    "* `.eq()` -- Equal\n",
    "* `.ne()` -- Not Equal\n",
    "* `.le()` -- Less Than or Equal\n",
    "* `.lt()` -- Less Than\n",
    "* `.ge()` -- Greater Than or Equal\n",
    "* `.gt()` -- Greater Than \n",
    "* `.isin()` -- Membership Test (in)\n",
    "* `.~isin()` -- Inverse Membership Test (not in)\n"
   ]
  },
  {
   "attachments": {},
   "cell_type": "markdown",
   "id": "75343f10",
   "metadata": {},
   "source": [
    "_Python Operator_"
   ]
  },
  {
   "cell_type": "code",
   "execution_count": 106,
   "id": "4fa6d909",
   "metadata": {},
   "outputs": [
    {
     "data": {
      "text/plain": [
       "coffee     False\n",
       "coffee      True\n",
       "tea        False\n",
       "coconut    False\n",
       "sugar      False\n",
       "Name: Sales, dtype: bool"
      ]
     },
     "execution_count": 106,
     "metadata": {},
     "output_type": "execute_result"
    }
   ],
   "source": [
    "sales_series == 5"
   ]
  },
  {
   "attachments": {},
   "cell_type": "markdown",
   "id": "99a6db9d",
   "metadata": {},
   "source": [
    "_Pandas Method_"
   ]
  },
  {
   "cell_type": "code",
   "execution_count": 107,
   "id": "cbddf7d3",
   "metadata": {},
   "outputs": [
    {
     "data": {
      "text/plain": [
       "coffee     False\n",
       "coffee      True\n",
       "tea        False\n",
       "coconut    False\n",
       "sugar      False\n",
       "Name: Sales, dtype: bool"
      ]
     },
     "execution_count": 107,
     "metadata": {},
     "output_type": "execute_result"
    }
   ],
   "source": [
    "sales_series.eq(5)"
   ]
  },
  {
   "cell_type": "code",
   "execution_count": 108,
   "id": "9e22e43f",
   "metadata": {},
   "outputs": [
    {
     "data": {
      "text/plain": [
       "array([ True,  True,  True, False, False])"
      ]
     },
     "execution_count": 108,
     "metadata": {},
     "output_type": "execute_result"
    }
   ],
   "source": [
    "sales_series.index.isin([\"coffee\", \"tea\"])"
   ]
  },
  {
   "cell_type": "code",
   "execution_count": 109,
   "id": "728b5524",
   "metadata": {},
   "outputs": [
    {
     "data": {
      "text/plain": [
       "array([False, False, False,  True,  True])"
      ]
     },
     "execution_count": 109,
     "metadata": {},
     "output_type": "execute_result"
    }
   ],
   "source": [
    "# The tilde (~) operator inverts the boolean values in the mask\n",
    "\n",
    "~sales_series.index.isin([\"coffee\", \"tea\"])"
   ]
  },
  {
   "attachments": {},
   "cell_type": "markdown",
   "id": "ede1d563",
   "metadata": {},
   "source": [
    "#### Practice"
   ]
  },
  {
   "cell_type": "code",
   "execution_count": 114,
   "id": "a049d790",
   "metadata": {},
   "outputs": [
    {
     "data": {
      "text/plain": [
       "day 0    0\n",
       "day 1    1\n",
       "day 2    2\n",
       "day 3    3\n",
       "day 4    4\n",
       "dtype: int64"
      ]
     },
     "execution_count": 114,
     "metadata": {},
     "output_type": "execute_result"
    }
   ],
   "source": [
    "my_series = pd.Series([0, 1, 2, 3, 4], index=[\"day 0\", \"day 1\", \"day 2\", \"day 3\", \"day 4\"])\n",
    "\n",
    "my_series"
   ]
  },
  {
   "cell_type": "code",
   "execution_count": 115,
   "id": "6b5fc1fe",
   "metadata": {},
   "outputs": [
    {
     "data": {
      "text/plain": [
       "day 0    False\n",
       "day 1    False\n",
       "day 2     True\n",
       "day 3    False\n",
       "day 4    False\n",
       "dtype: bool"
      ]
     },
     "execution_count": 115,
     "metadata": {},
     "output_type": "execute_result"
    }
   ],
   "source": [
    "my_series == 2"
   ]
  },
  {
   "cell_type": "code",
   "execution_count": 118,
   "id": "7e83336f",
   "metadata": {},
   "outputs": [
    {
     "data": {
      "text/plain": [
       "day 0    0\n",
       "day 1    1\n",
       "day 3    3\n",
       "day 4    4\n",
       "dtype: int64"
      ]
     },
     "execution_count": 118,
     "metadata": {},
     "output_type": "execute_result"
    }
   ],
   "source": [
    "my_series.loc[my_series != 2]"
   ]
  },
  {
   "cell_type": "code",
   "execution_count": 119,
   "id": "5f3d3547",
   "metadata": {},
   "outputs": [
    {
     "data": {
      "text/plain": [
       "day 2    2\n",
       "dtype: int64"
      ]
     },
     "execution_count": 119,
     "metadata": {},
     "output_type": "execute_result"
    }
   ],
   "source": [
    "# use the tilde to invert any logical test\n",
    "\n",
    "my_series.loc[~(my_series != 2)]"
   ]
  },
  {
   "cell_type": "code",
   "execution_count": 120,
   "id": "524527de",
   "metadata": {},
   "outputs": [
    {
     "data": {
      "text/plain": [
       "day 1    1\n",
       "day 2    2\n",
       "dtype: int64"
      ]
     },
     "execution_count": 120,
     "metadata": {},
     "output_type": "execute_result"
    }
   ],
   "source": [
    "# Membership Test\n",
    "\n",
    "my_series.loc[my_series.isin([1, 2])]"
   ]
  },
  {
   "cell_type": "code",
   "execution_count": 121,
   "id": "fd79af3f",
   "metadata": {},
   "outputs": [
    {
     "data": {
      "text/plain": [
       "day 0    0\n",
       "day 3    3\n",
       "day 4    4\n",
       "dtype: int64"
      ]
     },
     "execution_count": 121,
     "metadata": {},
     "output_type": "execute_result"
    }
   ],
   "source": [
    "my_series.loc[~my_series.isin([1, 2])]"
   ]
  },
  {
   "cell_type": "code",
   "execution_count": 122,
   "id": "88332ca6",
   "metadata": {},
   "outputs": [
    {
     "data": {
      "text/plain": [
       "day 3    3\n",
       "day 4    4\n",
       "dtype: int64"
      ]
     },
     "execution_count": 122,
     "metadata": {},
     "output_type": "execute_result"
    }
   ],
   "source": [
    "my_series.loc[my_series > 2]"
   ]
  },
  {
   "cell_type": "code",
   "execution_count": 123,
   "id": "ac4d73b5",
   "metadata": {},
   "outputs": [
    {
     "data": {
      "text/plain": [
       "day 0    0\n",
       "day 1    1\n",
       "day 2    2\n",
       "dtype: int64"
      ]
     },
     "execution_count": 123,
     "metadata": {},
     "output_type": "execute_result"
    }
   ],
   "source": [
    "my_series.loc[~(my_series > 2)]"
   ]
  },
  {
   "cell_type": "code",
   "execution_count": 124,
   "id": "0c817cb4",
   "metadata": {},
   "outputs": [
    {
     "data": {
      "text/plain": [
       "day 0    0\n",
       "day 1    1\n",
       "day 2    2\n",
       "dtype: int64"
      ]
     },
     "execution_count": 124,
     "metadata": {},
     "output_type": "execute_result"
    }
   ],
   "source": [
    "my_series.loc[~my_series.gt(2)] # don't need the parentheses"
   ]
  },
  {
   "cell_type": "code",
   "execution_count": 125,
   "id": "bda23662",
   "metadata": {},
   "outputs": [
    {
     "data": {
      "text/plain": [
       "day 1    1\n",
       "day 2    2\n",
       "day 3    3\n",
       "dtype: int64"
      ]
     },
     "execution_count": 125,
     "metadata": {},
     "output_type": "execute_result"
    }
   ],
   "source": [
    "my_series.loc[my_series.between(1, 3)]"
   ]
  },
  {
   "cell_type": "code",
   "execution_count": 126,
   "id": "6cebc628",
   "metadata": {},
   "outputs": [
    {
     "data": {
      "text/plain": [
       "day 1    1\n",
       "day 2    2\n",
       "day 3    3\n",
       "day 4    4\n",
       "dtype: int64"
      ]
     },
     "execution_count": 126,
     "metadata": {},
     "output_type": "execute_result"
    }
   ],
   "source": [
    "mask = (my_series.isin([1, 2])) | (my_series > 2)\n",
    "\n",
    "my_series.loc[mask]"
   ]
  },
  {
   "cell_type": "code",
   "execution_count": 127,
   "id": "c249db60",
   "metadata": {},
   "outputs": [
    {
     "data": {
      "text/plain": [
       "Series([], dtype: int64)"
      ]
     },
     "execution_count": 127,
     "metadata": {},
     "output_type": "execute_result"
    }
   ],
   "source": [
    "mask = (my_series.isin([1, 2])) & (my_series > 2)\n",
    "\n",
    "my_series.loc[mask]"
   ]
  },
  {
   "attachments": {},
   "cell_type": "markdown",
   "id": "f7957299",
   "metadata": {},
   "source": [
    "## 8 - Sorting Series\n",
    "\n",
    "You can `sort Series` by their values or their index\n",
    "1. The `.sort_values()` method sorts a Series by its values in ascending order \n",
    "2. The `.sort_index()` method sorts a Series by its index in ascending order \n",
    "\n",
    "_Specify `ascending=False` to sort in descending order_"
   ]
  },
  {
   "cell_type": "code",
   "execution_count": 110,
   "id": "e577e669",
   "metadata": {},
   "outputs": [
    {
     "data": {
      "text/plain": [
       "coffee       0\n",
       "coconut      0\n",
       "coffee       5\n",
       "tea        155\n",
       "sugar      518\n",
       "Name: Sales, dtype: int64"
      ]
     },
     "execution_count": 110,
     "metadata": {},
     "output_type": "execute_result"
    }
   ],
   "source": [
    "sales_series.sort_values()"
   ]
  },
  {
   "cell_type": "code",
   "execution_count": 111,
   "id": "0b669748",
   "metadata": {},
   "outputs": [
    {
     "data": {
      "text/plain": [
       "sugar      518\n",
       "tea        155\n",
       "coffee       5\n",
       "coffee       0\n",
       "coconut      0\n",
       "Name: Sales, dtype: int64"
      ]
     },
     "execution_count": 111,
     "metadata": {},
     "output_type": "execute_result"
    }
   ],
   "source": [
    "sales_series.sort_values(ascending=False)"
   ]
  },
  {
   "cell_type": "code",
   "execution_count": 112,
   "id": "c4bc4f44",
   "metadata": {},
   "outputs": [
    {
     "data": {
      "text/plain": [
       "coconut      0\n",
       "coffee       0\n",
       "coffee       5\n",
       "sugar      518\n",
       "tea        155\n",
       "Name: Sales, dtype: int64"
      ]
     },
     "execution_count": 112,
     "metadata": {},
     "output_type": "execute_result"
    }
   ],
   "source": [
    "sales_series.sort_index()"
   ]
  },
  {
   "cell_type": "code",
   "execution_count": 113,
   "id": "ba130ea3",
   "metadata": {},
   "outputs": [
    {
     "data": {
      "text/plain": [
       "tea        155\n",
       "sugar      518\n",
       "coffee       0\n",
       "coffee       5\n",
       "coconut      0\n",
       "Name: Sales, dtype: int64"
      ]
     },
     "execution_count": 113,
     "metadata": {},
     "output_type": "execute_result"
    }
   ],
   "source": [
    "sales_series.sort_index(ascending=False)"
   ]
  },
  {
   "attachments": {},
   "cell_type": "markdown",
   "id": "5f578e8f",
   "metadata": {},
   "source": [
    "#### Practice"
   ]
  },
  {
   "cell_type": "code",
   "execution_count": 128,
   "id": "c65e00fd",
   "metadata": {},
   "outputs": [
    {
     "data": {
      "text/plain": [
       "day 0    0\n",
       "day 1    1\n",
       "day 2    2\n",
       "day 3    3\n",
       "day 4    4\n",
       "dtype: int64"
      ]
     },
     "execution_count": 128,
     "metadata": {},
     "output_type": "execute_result"
    }
   ],
   "source": [
    "my_series = pd.Series([0, 1, 2, 3, 4], index=[\"day 0\", \"day 1\", \"day 2\", \"day 3\", \"day 4\"])\n",
    "\n",
    "my_series"
   ]
  },
  {
   "cell_type": "code",
   "execution_count": 129,
   "id": "38ed6bf7",
   "metadata": {},
   "outputs": [],
   "source": [
    "my_series.sort_values(ascending=False, inplace=True) # inplace modifies the original series"
   ]
  },
  {
   "cell_type": "code",
   "execution_count": 130,
   "id": "7b8f90ed",
   "metadata": {},
   "outputs": [
    {
     "data": {
      "text/plain": [
       "day 4    4\n",
       "day 3    3\n",
       "day 2    2\n",
       "day 1    1\n",
       "day 0    0\n",
       "dtype: int64"
      ]
     },
     "execution_count": 130,
     "metadata": {},
     "output_type": "execute_result"
    }
   ],
   "source": [
    "my_series"
   ]
  },
  {
   "cell_type": "code",
   "execution_count": 131,
   "id": "7e7ea69c",
   "metadata": {},
   "outputs": [
    {
     "data": {
      "text/plain": [
       "day 0    0\n",
       "day 1    1\n",
       "day 2    2\n",
       "day 3    3\n",
       "day 4    4\n",
       "dtype: int64"
      ]
     },
     "execution_count": 131,
     "metadata": {},
     "output_type": "execute_result"
    }
   ],
   "source": [
    "my_series.sort_index() # sort by index"
   ]
  },
  {
   "cell_type": "code",
   "execution_count": 132,
   "id": "0026b002",
   "metadata": {},
   "outputs": [],
   "source": [
    "my_series2 = my_series.sort_index(ascending=False) "
   ]
  },
  {
   "cell_type": "code",
   "execution_count": 133,
   "id": "8174d244",
   "metadata": {},
   "outputs": [
    {
     "data": {
      "text/plain": [
       "day 4    4\n",
       "day 3    3\n",
       "day 2    2\n",
       "day 1    1\n",
       "day 0    0\n",
       "dtype: int64"
      ]
     },
     "execution_count": 133,
     "metadata": {},
     "output_type": "execute_result"
    }
   ],
   "source": [
    "my_series2"
   ]
  },
  {
   "attachments": {},
   "cell_type": "markdown",
   "id": "deec0721",
   "metadata": {},
   "source": [
    "# Assignment 3: Sorting and Filtering Series\n",
    "\n",
    "* First, get the 10 lowest prices from the data. \n",
    "* Sort the 10 lowest prices by date, starting with the most recent and ending with the oldest price.\n",
    "\n",
    "* Finally, use the list of provided dates. Select only rows with these dates that had a price of less than 50 dollars per barrel."
   ]
  },
  {
   "cell_type": "code",
   "execution_count": 135,
   "id": "46126b3e",
   "metadata": {},
   "outputs": [],
   "source": [
    "# list of dates to be used to solve bullet 3\n",
    "\n",
    "dates = [\n",
    "    \"2016-12-22\",\n",
    "    \"2017-05-03\",\n",
    "    \"2017-01-06\",\n",
    "    \"2017-03-05\",\n",
    "    \"2017-02-12\",\n",
    "    \"2017-03-21\",\n",
    "    \"2017-04-14\",\n",
    "    \"2017-04-15\",\n",
    "]"
   ]
  },
  {
   "cell_type": "code",
   "execution_count": 136,
   "id": "2eecaa97",
   "metadata": {
    "scrolled": false
   },
   "outputs": [
    {
     "data": {
      "text/plain": [
       "date\n",
       "2017-05-10    47.28\n",
       "2017-05-09    45.84\n",
       "2017-05-08    46.46\n",
       "2017-05-05    46.23\n",
       "2017-05-04    45.55\n",
       "2017-03-27    47.02\n",
       "2017-03-23    47.00\n",
       "2017-03-22    47.29\n",
       "2017-03-21    47.02\n",
       "2017-03-14    47.24\n",
       "Name: oil_prices, dtype: float64"
      ]
     },
     "execution_count": 136,
     "metadata": {},
     "output_type": "execute_result"
    }
   ],
   "source": [
    "# Get 10 lowest prices by grabbing first 10 rows of sorted price series\n",
    "# Then, sort by index in descending order\n",
    "\n",
    "oil_series.sort_values().iloc[:10].sort_index(ascending=False)"
   ]
  },
  {
   "cell_type": "code",
   "execution_count": 137,
   "id": "4864ae20",
   "metadata": {},
   "outputs": [
    {
     "data": {
      "text/plain": [
       "date\n",
       "2017-03-21    47.02\n",
       "2017-05-03    47.79\n",
       "Name: oil_prices, dtype: float64"
      ]
     },
     "execution_count": 137,
     "metadata": {},
     "output_type": "execute_result"
    }
   ],
   "source": [
    "# Create mask to filter to only dates in list of dates and oil price <= 50\n",
    "\n",
    "mask = oil_series.index.isin(dates) & (oil_series <= 50)\n",
    "\n",
    "oil_series.loc[mask]"
   ]
  },
  {
   "cell_type": "code",
   "execution_count": 138,
   "id": "6d0f78a2",
   "metadata": {},
   "outputs": [
    {
     "data": {
      "text/plain": [
       "date\n",
       "2017-03-21    47.02\n",
       "2017-05-03    47.79\n",
       "Name: oil_prices, dtype: float64"
      ]
     },
     "execution_count": 138,
     "metadata": {},
     "output_type": "execute_result"
    }
   ],
   "source": [
    "# Use the Pandas less than or equal to operator (le) get the same result\n",
    "\n",
    "mask = oil_series.index.isin(dates) & (oil_series.le(50))\n",
    "\n",
    "oil_series.loc[mask]"
   ]
  },
  {
   "attachments": {},
   "cell_type": "markdown",
   "id": "e7119824",
   "metadata": {},
   "source": [
    "## 9 - Numeric (Arithmetic) Series Operations\n",
    "\n",
    "You can use these `operators` & `methods` to perform numeric operations on Series\n",
    "\n",
    "  <img src=\"../images/1-numeric_series_operations.png\" width=70% height=70%>\n"
   ]
  },
  {
   "attachments": {},
   "cell_type": "markdown",
   "id": "8226a118",
   "metadata": {},
   "source": [
    "#### Practice"
   ]
  },
  {
   "cell_type": "code",
   "execution_count": 139,
   "id": "e189afb9",
   "metadata": {},
   "outputs": [
    {
     "data": {
      "text/plain": [
       "day 0    1.0\n",
       "day 1    NaN\n",
       "day 2    2.0\n",
       "day 3    3.0\n",
       "day 4    4.0\n",
       "dtype: float64"
      ]
     },
     "execution_count": 139,
     "metadata": {},
     "output_type": "execute_result"
    }
   ],
   "source": [
    "# plug in a missing value (NaN) for our second row \n",
    "\n",
    "my_series = pd.Series(\n",
    "    [1, np.NaN, 2, 3, 4], index=[\"day 0\", \"day 1\", \"day 2\", \"day 3\", \"day 4\"]\n",
    ")\n",
    "\n",
    "my_series"
   ]
  },
  {
   "cell_type": "code",
   "execution_count": 140,
   "id": "f108aa0c",
   "metadata": {},
   "outputs": [
    {
     "data": {
      "text/plain": [
       "day 0    2.0\n",
       "day 1    NaN\n",
       "day 2    3.0\n",
       "day 3    4.0\n",
       "day 4    5.0\n",
       "dtype: float64"
      ]
     },
     "execution_count": 140,
     "metadata": {},
     "output_type": "execute_result"
    }
   ],
   "source": [
    "my_series + 1"
   ]
  },
  {
   "cell_type": "code",
   "execution_count": 143,
   "id": "ea9e10c0",
   "metadata": {},
   "outputs": [],
   "source": [
    "my_series2 = my_series.add(1, fill_value=0).astype(int)"
   ]
  },
  {
   "cell_type": "code",
   "execution_count": 144,
   "id": "8a88d431",
   "metadata": {},
   "outputs": [
    {
     "data": {
      "text/plain": [
       "day 0    2\n",
       "day 1    1\n",
       "day 2    3\n",
       "day 3    4\n",
       "day 4    5\n",
       "dtype: int64"
      ]
     },
     "execution_count": 144,
     "metadata": {},
     "output_type": "execute_result"
    }
   ],
   "source": [
    "my_series2"
   ]
  },
  {
   "cell_type": "code",
   "execution_count": 145,
   "id": "006f7a85",
   "metadata": {},
   "outputs": [
    {
     "data": {
      "text/plain": [
       "day 0    1.0\n",
       "day 1    0.5\n",
       "day 2    1.5\n",
       "day 3    2.0\n",
       "day 4    2.5\n",
       "dtype: float64"
      ]
     },
     "execution_count": 145,
     "metadata": {},
     "output_type": "execute_result"
    }
   ],
   "source": [
    "# division \n",
    "\n",
    "my_series2 / 2"
   ]
  },
  {
   "cell_type": "code",
   "execution_count": 146,
   "id": "e97703c4",
   "metadata": {},
   "outputs": [
    {
     "data": {
      "text/plain": [
       "day 0    1\n",
       "day 1    0\n",
       "day 2    1\n",
       "day 3    2\n",
       "day 4    2\n",
       "dtype: int64"
      ]
     },
     "execution_count": 146,
     "metadata": {},
     "output_type": "execute_result"
    }
   ],
   "source": [
    "# floor division\n",
    "\n",
    "my_series2 // 2"
   ]
  },
  {
   "cell_type": "code",
   "execution_count": 147,
   "id": "264d52c1",
   "metadata": {},
   "outputs": [
    {
     "data": {
      "text/plain": [
       "day 0    3.0\n",
       "day 1    NaN\n",
       "day 2    5.0\n",
       "day 3    7.0\n",
       "day 4    9.0\n",
       "dtype: float64"
      ]
     },
     "execution_count": 147,
     "metadata": {},
     "output_type": "execute_result"
    }
   ],
   "source": [
    "# add two series together\n",
    "\n",
    "my_series + my_series2"
   ]
  },
  {
   "cell_type": "code",
   "execution_count": 148,
   "id": "1c9dc208",
   "metadata": {},
   "outputs": [
    {
     "data": {
      "text/plain": [
       "day 0    3.0\n",
       "day 1    1.0\n",
       "day 2    5.0\n",
       "day 3    7.0\n",
       "day 4    9.0\n",
       "dtype: float64"
      ]
     },
     "execution_count": 148,
     "metadata": {},
     "output_type": "execute_result"
    }
   ],
   "source": [
    "# handle missing value \n",
    "\n",
    "my_series.add(my_series2, fill_value=0)"
   ]
  },
  {
   "cell_type": "code",
   "execution_count": 149,
   "id": "76bf8d1e",
   "metadata": {},
   "outputs": [
    {
     "data": {
      "text/plain": [
       "day 0    1.5\n",
       "day 1    NaN\n",
       "day 2    2.5\n",
       "day 3    3.5\n",
       "day 4    4.5\n",
       "dtype: float64"
      ]
     },
     "execution_count": 149,
     "metadata": {},
     "output_type": "execute_result"
    }
   ],
   "source": [
    "# average two series \n",
    "\n",
    "(my_series + my_series2) / 2"
   ]
  },
  {
   "attachments": {},
   "cell_type": "markdown",
   "id": "06901f02",
   "metadata": {},
   "source": [
    "## 10 - Text Series Operations /String Methods\n",
    "\n",
    "The Pandas str accessor lets you access many `string methods` \n",
    "* These methods all return a Series(_split returns multiple series_)\n",
    "\n",
    " <img src=\"../images/2-text_series_operations.png\" width=70% height=70%>"
   ]
  },
  {
   "cell_type": "code",
   "execution_count": 150,
   "id": "f8e918a0",
   "metadata": {},
   "outputs": [
    {
     "data": {
      "text/plain": [
       "0    day 0\n",
       "1    day 1\n",
       "2    day 2\n",
       "3    day 3\n",
       "4    day 4\n",
       "dtype: object"
      ]
     },
     "execution_count": 150,
     "metadata": {},
     "output_type": "execute_result"
    }
   ],
   "source": [
    "string_series = pd.Series([\"day 0\", \"day 1\", \"day 2\", \"day 3\", \"day 4\"])\n",
    "\n",
    "string_series"
   ]
  },
  {
   "cell_type": "code",
   "execution_count": 151,
   "id": "6c32f5ef",
   "metadata": {},
   "outputs": [
    {
     "data": {
      "text/plain": [
       "0    False\n",
       "1     True\n",
       "2    False\n",
       "3    False\n",
       "4    False\n",
       "dtype: bool"
      ]
     },
     "execution_count": 151,
     "metadata": {},
     "output_type": "execute_result"
    }
   ],
   "source": [
    "string_series.str.contains(\"1\")"
   ]
  },
  {
   "cell_type": "code",
   "execution_count": 153,
   "id": "9da71353",
   "metadata": {},
   "outputs": [
    {
     "data": {
      "text/plain": [
       "0    False\n",
       "1     True\n",
       "2    False\n",
       "3    False\n",
       "4    False\n",
       "dtype: bool"
      ]
     },
     "execution_count": 153,
     "metadata": {},
     "output_type": "execute_result"
    }
   ],
   "source": [
    "# chain these operators (need to call the str accessor again)\n",
    "\n",
    "string_series.str.upper().str.contains(\"DAY 1\")"
   ]
  },
  {
   "cell_type": "code",
   "execution_count": 157,
   "id": "c160da79",
   "metadata": {},
   "outputs": [
    {
     "data": {
      "text/plain": [
       "0    0\n",
       "1    1\n",
       "2    2\n",
       "3    3\n",
       "4    4\n",
       "dtype: int64"
      ]
     },
     "execution_count": 157,
     "metadata": {},
     "output_type": "execute_result"
    }
   ],
   "source": [
    "# strip away any characters that are not digits\n",
    "# only left the integer portion of the string\n",
    "# convert this to an integer\n",
    "\n",
    "string_series.str.strip('day ').astype(int)"
   ]
  },
  {
   "cell_type": "code",
   "execution_count": 158,
   "id": "ad5a1b9e",
   "metadata": {},
   "outputs": [
    {
     "data": {
      "text/plain": [
       "0    0\n",
       "1    1\n",
       "2    2\n",
       "3    3\n",
       "4    4\n",
       "dtype: int64"
      ]
     },
     "execution_count": 158,
     "metadata": {},
     "output_type": "execute_result"
    }
   ],
   "source": [
    "# slicing \n",
    "\n",
    "string_series.str[-1].astype(int)"
   ]
  },
  {
   "cell_type": "code",
   "execution_count": 159,
   "id": "fb029872",
   "metadata": {},
   "outputs": [
    {
     "data": {
      "text/plain": [
       "0    [day, 0]\n",
       "1    [day, 1]\n",
       "2    [day, 2]\n",
       "3    [day, 3]\n",
       "4    [day, 4]\n",
       "dtype: object"
      ]
     },
     "execution_count": 159,
     "metadata": {},
     "output_type": "execute_result"
    }
   ],
   "source": [
    "# split the string on the space character\n",
    "# this will create a list or as a series \n",
    "\n",
    "string_series.str.split(\" \")"
   ]
  },
  {
   "cell_type": "code",
   "execution_count": 160,
   "id": "23a9e0fd",
   "metadata": {},
   "outputs": [
    {
     "data": {
      "text/html": [
       "<div>\n",
       "<style scoped>\n",
       "    .dataframe tbody tr th:only-of-type {\n",
       "        vertical-align: middle;\n",
       "    }\n",
       "\n",
       "    .dataframe tbody tr th {\n",
       "        vertical-align: top;\n",
       "    }\n",
       "\n",
       "    .dataframe thead th {\n",
       "        text-align: right;\n",
       "    }\n",
       "</style>\n",
       "<table border=\"1\" class=\"dataframe\">\n",
       "  <thead>\n",
       "    <tr style=\"text-align: right;\">\n",
       "      <th></th>\n",
       "      <th>0</th>\n",
       "      <th>1</th>\n",
       "    </tr>\n",
       "  </thead>\n",
       "  <tbody>\n",
       "    <tr>\n",
       "      <th>0</th>\n",
       "      <td>day</td>\n",
       "      <td>0</td>\n",
       "    </tr>\n",
       "    <tr>\n",
       "      <th>1</th>\n",
       "      <td>day</td>\n",
       "      <td>1</td>\n",
       "    </tr>\n",
       "    <tr>\n",
       "      <th>2</th>\n",
       "      <td>day</td>\n",
       "      <td>2</td>\n",
       "    </tr>\n",
       "    <tr>\n",
       "      <th>3</th>\n",
       "      <td>day</td>\n",
       "      <td>3</td>\n",
       "    </tr>\n",
       "    <tr>\n",
       "      <th>4</th>\n",
       "      <td>day</td>\n",
       "      <td>4</td>\n",
       "    </tr>\n",
       "  </tbody>\n",
       "</table>\n",
       "</div>"
      ],
      "text/plain": [
       "     0  1\n",
       "0  day  0\n",
       "1  day  1\n",
       "2  day  2\n",
       "3  day  3\n",
       "4  day  4"
      ]
     },
     "execution_count": 160,
     "metadata": {},
     "output_type": "execute_result"
    }
   ],
   "source": [
    "# use the expand=True argument to expand these into their own columns (to return a DataFrame)\n",
    "\n",
    "string_series.str.split(' ', expand=True)"
   ]
  },
  {
   "attachments": {},
   "cell_type": "markdown",
   "id": "ce362e59",
   "metadata": {},
   "source": [
    "\n",
    "# Assignment 4: Series Operations\n",
    "### Sensitivity Analysis\n",
    "\n",
    "* Increase the prices in the oil series by 10%, and add an additional 2 dollars per barrel on top of that.\n",
    "\n",
    "* Then, create a series that represents the difference between each price and max price.\n",
    "\n",
    "* Finally, extract the month from the string dates in the index and store them as an integer in their own series."
   ]
  },
  {
   "cell_type": "code",
   "execution_count": 161,
   "id": "38305859",
   "metadata": {},
   "outputs": [
    {
     "data": {
      "text/plain": [
       "date\n",
       "2016-12-20    59.442\n",
       "2016-12-21    58.584\n",
       "2016-12-22    59.178\n",
       "2016-12-23    59.211\n",
       "2016-12-27    60.102\n",
       "               ...  \n",
       "2017-05-09    52.424\n",
       "2017-05-10    54.008\n",
       "2017-05-11    54.591\n",
       "2017-05-12    54.613\n",
       "2017-05-15    55.746\n",
       "Name: oil_prices, Length: 100, dtype: float64"
      ]
     },
     "execution_count": 161,
     "metadata": {},
     "output_type": "execute_result"
    }
   ],
   "source": [
    "# Multiple oil series values by 1.1 (10% increase), then add 2 to each row\n",
    "\n",
    "# with Pandas methods\n",
    "oil_series.mul(1.1).add(2)"
   ]
  },
  {
   "cell_type": "code",
   "execution_count": 162,
   "id": "f488d150",
   "metadata": {},
   "outputs": [
    {
     "data": {
      "text/plain": [
       "date\n",
       "2016-12-20    59.442\n",
       "2016-12-21    58.584\n",
       "2016-12-22    59.178\n",
       "2016-12-23    59.211\n",
       "2016-12-27    60.102\n",
       "               ...  \n",
       "2017-05-09    52.424\n",
       "2017-05-10    54.008\n",
       "2017-05-11    54.591\n",
       "2017-05-12    54.613\n",
       "2017-05-15    55.746\n",
       "Name: oil_prices, Length: 100, dtype: float64"
      ]
     },
     "execution_count": 162,
     "metadata": {},
     "output_type": "execute_result"
    }
   ],
   "source": [
    "# with Python operators\n",
    "oil_series * 1.1 + 2"
   ]
  },
  {
   "cell_type": "code",
   "execution_count": 163,
   "id": "0f92574f",
   "metadata": {},
   "outputs": [
    {
     "data": {
      "text/plain": [
       "54.48"
      ]
     },
     "execution_count": 163,
     "metadata": {},
     "output_type": "execute_result"
    }
   ],
   "source": [
    "# Get max price, store in variable\n",
    "\n",
    "max_price = oil_series.max()\n",
    "\n",
    "max_price"
   ]
  },
  {
   "cell_type": "code",
   "execution_count": 164,
   "id": "98b673c0",
   "metadata": {},
   "outputs": [
    {
     "data": {
      "text/plain": [
       "date\n",
       "2016-12-20   -0.041483\n",
       "2016-12-21   -0.055800\n",
       "2016-12-22   -0.045888\n",
       "2016-12-23   -0.045338\n",
       "2016-12-27   -0.030470\n",
       "                ...   \n",
       "2017-05-09   -0.158590\n",
       "2017-05-10   -0.132159\n",
       "2017-05-11   -0.122430\n",
       "2017-05-12   -0.122063\n",
       "2017-05-15   -0.103157\n",
       "Name: oil_prices, Length: 100, dtype: float64"
      ]
     },
     "execution_count": 164,
     "metadata": {},
     "output_type": "execute_result"
    }
   ],
   "source": [
    "# Subtract max price from all rows in oil_series (returns a Series)\n",
    "\n",
    "(oil_series - max_price) / max_price"
   ]
  },
  {
   "cell_type": "code",
   "execution_count": 172,
   "id": "0cbd5306",
   "metadata": {},
   "outputs": [
    {
     "data": {
      "text/plain": [
       "0     2016-12-20\n",
       "1     2016-12-21\n",
       "2     2016-12-22\n",
       "3     2016-12-23\n",
       "4     2016-12-27\n",
       "         ...    \n",
       "95    2017-05-09\n",
       "96    2017-05-10\n",
       "97    2017-05-11\n",
       "98    2017-05-12\n",
       "99    2017-05-15\n",
       "Name: date, Length: 100, dtype: object"
      ]
     },
     "execution_count": 172,
     "metadata": {},
     "output_type": "execute_result"
    }
   ],
   "source": [
    "# Create a series from the index of oil_series\n",
    "\n",
    "string_dates = pd.Series(oil_series.index)\n",
    "\n",
    "string_dates"
   ]
  },
  {
   "cell_type": "code",
   "execution_count": 167,
   "id": "fb8eac50",
   "metadata": {},
   "outputs": [
    {
     "data": {
      "text/plain": [
       "0     12\n",
       "1     12\n",
       "2     12\n",
       "3     12\n",
       "4     12\n",
       "      ..\n",
       "95     5\n",
       "96     5\n",
       "97     5\n",
       "98     5\n",
       "99     5\n",
       "Name: date, Length: 100, dtype: int64"
      ]
     },
     "execution_count": 167,
     "metadata": {},
     "output_type": "execute_result"
    }
   ],
   "source": [
    "# Slice out month portion of text string and convert to int\n",
    "\n",
    "string_dates.str[5:7].astype(\"int\") # equivalent to string_dates.str.split(\"-\", expand=True)[1].astype(\"int\")"
   ]
  },
  {
   "cell_type": "code",
   "execution_count": 168,
   "id": "8f1ab94a",
   "metadata": {},
   "outputs": [
    {
     "data": {
      "text/plain": [
       "0     12\n",
       "1     12\n",
       "2     12\n",
       "3     12\n",
       "4     12\n",
       "      ..\n",
       "95     5\n",
       "96     5\n",
       "97     5\n",
       "98     5\n",
       "99     5\n",
       "Name: date, Length: 100, dtype: int64"
      ]
     },
     "execution_count": 168,
     "metadata": {},
     "output_type": "execute_result"
    }
   ],
   "source": [
    "# single line\n",
    "\n",
    "pd.Series(oil_series.index).str[5:7].astype(\"int\")"
   ]
  },
  {
   "attachments": {},
   "cell_type": "markdown",
   "id": "496b6e1d",
   "metadata": {},
   "source": [
    "## 11 - Numeric Series Aggregation\n",
    "\n",
    "You can use these methods to `aggregate numerical Series` \n",
    "\n",
    " <img src=\"../images/3-numeric_series_aggregation.png\" width=70% height=70%>"
   ]
  },
  {
   "attachments": {},
   "cell_type": "markdown",
   "id": "e992cf87",
   "metadata": {},
   "source": [
    "#### Practice"
   ]
  },
  {
   "cell_type": "code",
   "execution_count": 174,
   "id": "2cbd3d42",
   "metadata": {},
   "outputs": [
    {
     "data": {
      "text/plain": [
       "0     770\n",
       "1    2111\n",
       "2    2358\n",
       "3    3487\n",
       "4    1922\n",
       "Name: transactions, dtype: int64"
      ]
     },
     "execution_count": 174,
     "metadata": {},
     "output_type": "execute_result"
    }
   ],
   "source": [
    "transactions = pd.read_csv(\"../retail/transactions.csv\")\n",
    "\n",
    "# create a series out of one column of the DataFrame\n",
    "transactions_series = pd.Series(transactions[\"transactions\"])\n",
    "\n",
    "# look at the top 5 rows of the series\n",
    "transactions_series.iloc[:5]"
   ]
  },
  {
   "cell_type": "code",
   "execution_count": 175,
   "id": "b69d42ea",
   "metadata": {},
   "outputs": [
    {
     "data": {
      "text/plain": [
       "83488"
      ]
     },
     "execution_count": 175,
     "metadata": {},
     "output_type": "execute_result"
    }
   ],
   "source": [
    "# perform some aggregation on the numeric series\n",
    "\n",
    "transactions_series.count() #.sum() .mean() .median() .min() .max()"
   ]
  },
  {
   "cell_type": "code",
   "execution_count": 177,
   "id": "339b0b93",
   "metadata": {},
   "outputs": [
    {
     "data": {
      "text/plain": [
       "0.5    1393.0\n",
       "Name: transactions, dtype: float64"
      ]
     },
     "execution_count": 177,
     "metadata": {},
     "output_type": "execute_result"
    }
   ],
   "source": [
    "# 50% percentile\n",
    "\n",
    "transactions_series.quantile([.5])"
   ]
  },
  {
   "cell_type": "code",
   "execution_count": 178,
   "id": "ba376808",
   "metadata": {},
   "outputs": [
    {
     "data": {
      "text/plain": [
       "0.5    1393\n",
       "Name: transactions, dtype: int64"
      ]
     },
     "execution_count": 178,
     "metadata": {},
     "output_type": "execute_result"
    }
   ],
   "source": [
    "# interpolation - grab the nearest value to the percentile specified\n",
    "\n",
    "transactions_series.quantile([.5], interpolation='nearest')"
   ]
  },
  {
   "cell_type": "code",
   "execution_count": 179,
   "id": "708bddd3",
   "metadata": {},
   "outputs": [
    {
     "data": {
      "text/plain": [
       "0     770\n",
       "1    2111\n",
       "2    2358\n",
       "3    3487\n",
       "4    1922\n",
       "Name: transactions, dtype: int64"
      ]
     },
     "execution_count": 179,
     "metadata": {},
     "output_type": "execute_result"
    }
   ],
   "source": [
    "transactions_series.iloc[:5] # quantile will be a little skewey because of the small sample size"
   ]
  },
  {
   "cell_type": "code",
   "execution_count": 182,
   "id": "47d4877a",
   "metadata": {},
   "outputs": [
    {
     "data": {
      "text/plain": [
       "0.4    2035.4\n",
       "Name: transactions, dtype: float64"
      ]
     },
     "execution_count": 182,
     "metadata": {},
     "output_type": "execute_result"
    }
   ],
   "source": [
    "transactions_series.iloc[:5].quantile([.4]) # we don't have a 40th percentile value"
   ]
  },
  {
   "cell_type": "code",
   "execution_count": 183,
   "id": "023e357b",
   "metadata": {},
   "outputs": [
    {
     "data": {
      "text/plain": [
       "0.4    2111\n",
       "Name: transactions, dtype: int64"
      ]
     },
     "execution_count": 183,
     "metadata": {},
     "output_type": "execute_result"
    }
   ],
   "source": [
    "transactions_series.iloc[:5].quantile([.4], interpolation='nearest') # grab the nearest value"
   ]
  },
  {
   "attachments": {},
   "cell_type": "markdown",
   "id": "b2ba980c",
   "metadata": {},
   "source": [
    "## 12 - Categorical Series Aggregation\n",
    "\n",
    "You can use these methods to `aggregate categorical Series` \n",
    "\n",
    " <img src=\"../images/4-categorical_series_aggregations.png\" width=70% height=70%>"
   ]
  },
  {
   "attachments": {},
   "cell_type": "markdown",
   "id": "537a2bd8",
   "metadata": {},
   "source": [
    "#### Practice"
   ]
  },
  {
   "cell_type": "code",
   "execution_count": 186,
   "id": "53ffa150",
   "metadata": {},
   "outputs": [
    {
     "data": {
      "text/plain": [
       "0    day 0\n",
       "1    day 0\n",
       "2    day 2\n",
       "3    day 2\n",
       "4    day 4\n",
       "dtype: object"
      ]
     },
     "execution_count": 186,
     "metadata": {},
     "output_type": "execute_result"
    }
   ],
   "source": [
    "string_series = pd.Series([\"day 0\", \"day 0\", \"day 2\", \"day 2\", \"day 4\"])\n",
    "\n",
    "string_series"
   ]
  },
  {
   "cell_type": "code",
   "execution_count": 187,
   "id": "0696a07c",
   "metadata": {},
   "outputs": [
    {
     "data": {
      "text/plain": [
       "3"
      ]
     },
     "execution_count": 187,
     "metadata": {},
     "output_type": "execute_result"
    }
   ],
   "source": [
    "string_series.nunique() # number of unique values"
   ]
  },
  {
   "cell_type": "code",
   "execution_count": 188,
   "id": "48c59f20",
   "metadata": {},
   "outputs": [
    {
     "data": {
      "text/plain": [
       "array(['day 0', 'day 2', 'day 4'], dtype=object)"
      ]
     },
     "execution_count": 188,
     "metadata": {},
     "output_type": "execute_result"
    }
   ],
   "source": [
    "string_series.unique() # list of unique values"
   ]
  },
  {
   "cell_type": "code",
   "execution_count": 189,
   "id": "8439508d",
   "metadata": {},
   "outputs": [
    {
     "data": {
      "text/plain": [
       "day 0    2\n",
       "day 2    2\n",
       "day 4    1\n",
       "Name: count, dtype: int64"
      ]
     },
     "execution_count": 189,
     "metadata": {},
     "output_type": "execute_result"
    }
   ],
   "source": [
    "# all the unique values in my series and how ofthen they occur \n",
    "\n",
    "string_series.value_counts()"
   ]
  },
  {
   "cell_type": "code",
   "execution_count": 190,
   "id": "7573abbd",
   "metadata": {},
   "outputs": [
    {
     "data": {
      "text/plain": [
       "day 0    0.4\n",
       "day 2    0.4\n",
       "day 4    0.2\n",
       "Name: proportion, dtype: float64"
      ]
     },
     "execution_count": 190,
     "metadata": {},
     "output_type": "execute_result"
    }
   ],
   "source": [
    "# normalize=True gives us that percentage sense, which is something that we can report across all data sets\n",
    "# e.g. 40% of our customers tend to buy on day 0\n",
    "\n",
    "string_series.value_counts(normalize=True)"
   ]
  },
  {
   "attachments": {},
   "cell_type": "markdown",
   "id": "4735ed48",
   "metadata": {},
   "source": [
    "# Assignment 5: Series Aggregations\n",
    "\n",
    "### Additional Metrics\n",
    "* Calculate the sum and mean of prices in the month of March. \n",
    "\n",
    "* Next, calculate how many prices were recorded in January and February.\n",
    "\n",
    "* Then, calculate the 10th and 90th percentiles across all data.\n",
    "\n",
    "* Finally, how often did integer dollar value (e.g. 51, 52) occur in the data? Normalize this to a percentage.   "
   ]
  },
  {
   "cell_type": "code",
   "execution_count": 196,
   "id": "50e511fc",
   "metadata": {},
   "outputs": [
    {
     "data": {
      "text/plain": [
       "date\n",
       "2016-12-20    52.22\n",
       "2016-12-21    51.44\n",
       "2016-12-22    51.98\n",
       "2016-12-23    52.01\n",
       "2016-12-27    52.82\n",
       "Name: oil_prices, dtype: float64"
      ]
     },
     "execution_count": 196,
     "metadata": {},
     "output_type": "execute_result"
    }
   ],
   "source": [
    "oil_series.head()"
   ]
  },
  {
   "cell_type": "code",
   "execution_count": 201,
   "id": "df544d03",
   "metadata": {},
   "outputs": [
    {
     "data": {
      "text/plain": [
       "Index(['12', '01', '02', '03', '04', '05'], dtype='object', name='date')"
      ]
     },
     "execution_count": 201,
     "metadata": {},
     "output_type": "execute_result"
    }
   ],
   "source": [
    "oil_series.index.str[5:7].unique() # get unique months"
   ]
  },
  {
   "cell_type": "code",
   "execution_count": 202,
   "id": "025825b7",
   "metadata": {},
   "outputs": [
    {
     "data": {
      "text/plain": [
       "1134.54"
      ]
     },
     "execution_count": 202,
     "metadata": {},
     "output_type": "execute_result"
    }
   ],
   "source": [
    "# Filter series to March (month 3), calculate sum of prices, and round\n",
    "\n",
    "oil_series[oil_series.index.str[6:7] == \"3\"].sum().round(2)"
   ]
  },
  {
   "cell_type": "code",
   "execution_count": 203,
   "id": "b7846132",
   "metadata": {},
   "outputs": [
    {
     "data": {
      "text/plain": [
       "49.32782608695651"
      ]
     },
     "execution_count": 203,
     "metadata": {},
     "output_type": "execute_result"
    }
   ],
   "source": [
    "# Filter series to march, calculate mean\n",
    "\n",
    "oil_series[oil_series.index.str[6:7] == \"3\"].mean()"
   ]
  },
  {
   "cell_type": "code",
   "execution_count": 204,
   "id": "2d0ea594",
   "metadata": {},
   "outputs": [
    {
     "data": {
      "text/plain": [
       "39"
      ]
     },
     "execution_count": 204,
     "metadata": {},
     "output_type": "execute_result"
    }
   ],
   "source": [
    "# Filter series to Jan and Feb, count entries\n",
    "\n",
    "oil_series[oil_series.index.str[5:7].isin([\"01\", \"02\"])].count()"
   ]
  },
  {
   "cell_type": "code",
   "execution_count": 205,
   "id": "d220d35d",
   "metadata": {},
   "outputs": [
    {
     "data": {
      "text/plain": [
       "0.1    47.299\n",
       "0.9    53.811\n",
       "Name: oil_prices, dtype: float64"
      ]
     },
     "execution_count": 205,
     "metadata": {},
     "output_type": "execute_result"
    }
   ],
   "source": [
    "# Calculate 10th and 90th percentiles of oil series using quantile\n",
    "\n",
    "oil_series.quantile([0.1, 0.9])"
   ]
  },
  {
   "cell_type": "code",
   "execution_count": 206,
   "id": "a5082d8f",
   "metadata": {},
   "outputs": [
    {
     "data": {
      "text/plain": [
       "oil_prices\n",
       "53    0.26\n",
       "52    0.22\n",
       "47    0.13\n",
       "48    0.10\n",
       "51    0.07\n",
       "50    0.07\n",
       "49    0.06\n",
       "54    0.05\n",
       "45    0.02\n",
       "46    0.02\n",
       "Name: proportion, dtype: float64"
      ]
     },
     "execution_count": 206,
     "metadata": {},
     "output_type": "execute_result"
    }
   ],
   "source": [
    "# Return normalized value counts to get percentage of time each integer dollar value occurred\n",
    "\n",
    "# We see 48% of our pricess hovered around the $52 to $53 dollar mark\n",
    "# It appears that there was a very fast rise from the 47 to 48 dollar mark to the 52 to 53 dollar mark\n",
    "\n",
    "oil_series.astype(\"int\").value_counts(normalize=True)"
   ]
  },
  {
   "attachments": {},
   "cell_type": "markdown",
   "id": "aaed9e88",
   "metadata": {},
   "source": [
    "## 13 - Missing Data\n",
    "\n",
    "`Missing data` in Pandas is often represented by NumPy \"NaN\" values _(\"NaN\" stands for not a number)_\n",
    "* This is more efficient than Python's \"None\" data type\n",
    "* Pandas treats NaN values as float, which allows them to be used in vectorized operations \n",
    "\n",
    "### Identifying Missing Data\n",
    "\n",
    "The `.isna()` and `.value_counts()` methods let you `identify missing data` in a Series \n",
    "* The `.isna()` method returns True if a value is missing, and False otherwise \n",
    "* The `.value_counts()` method returns unique values and their frequency \n",
    "\n",
    " <img src=\"../images/5-identifying_missing_data.png\" width=60% height=60%>\n",
    "\n",
    "### Handling Missing Data\n",
    "The `.dropna()` and `.fillna()` methods let you `handle missing data` in a Series \n",
    "* The `.dropna()` method removes NaN values from your Series or DataFrame\n",
    "* The `.fillna(values)` method replaces NaN values with a specified value\n",
    "\n",
    " <img src=\"../images/6-handling_missing_data.png\" width=50% height=50%>\n",
    "\n",
    "* It's important to `be thoughtful and deliberate` in how you handle missing data\n",
    "\n",
    " <img src=\"../images/7_handling_missing_data.png\" width=60% height=60%>"
   ]
  },
  {
   "attachments": {},
   "cell_type": "markdown",
   "id": "cd9f65b2",
   "metadata": {},
   "source": [
    "#### Practice"
   ]
  },
  {
   "cell_type": "code",
   "execution_count": 208,
   "id": "7d019c01",
   "metadata": {},
   "outputs": [],
   "source": [
    "my_series = pd.Series([np.NaN] * 5)"
   ]
  },
  {
   "cell_type": "code",
   "execution_count": 209,
   "id": "5bce5dfb",
   "metadata": {},
   "outputs": [
    {
     "data": {
      "text/plain": [
       "0   NaN\n",
       "1   NaN\n",
       "2   NaN\n",
       "3   NaN\n",
       "4   NaN\n",
       "dtype: float64"
      ]
     },
     "execution_count": 209,
     "metadata": {},
     "output_type": "execute_result"
    }
   ],
   "source": [
    "my_series"
   ]
  },
  {
   "cell_type": "code",
   "execution_count": 210,
   "id": "03bbc9d1",
   "metadata": {},
   "outputs": [
    {
     "data": {
      "text/plain": [
       "5"
      ]
     },
     "execution_count": 210,
     "metadata": {},
     "output_type": "execute_result"
    }
   ],
   "source": [
    "my_series.isna().sum() # count the number of missing values"
   ]
  },
  {
   "cell_type": "code",
   "execution_count": 211,
   "id": "312e154b",
   "metadata": {},
   "outputs": [
    {
     "data": {
      "text/plain": [
       "1.0"
      ]
     },
     "execution_count": 211,
     "metadata": {},
     "output_type": "execute_result"
    }
   ],
   "source": [
    "my_series.isna().mean() # percentage of missing values (100% in this case)"
   ]
  },
  {
   "cell_type": "code",
   "execution_count": 212,
   "id": "f5b80f26",
   "metadata": {},
   "outputs": [],
   "source": [
    "my_series = pd.Series([pd.NA] * 5)"
   ]
  },
  {
   "cell_type": "code",
   "execution_count": 213,
   "id": "31738096",
   "metadata": {},
   "outputs": [
    {
     "data": {
      "text/plain": [
       "0    <NA>\n",
       "1    <NA>\n",
       "2    <NA>\n",
       "3    <NA>\n",
       "4    <NA>\n",
       "dtype: object"
      ]
     },
     "execution_count": 213,
     "metadata": {},
     "output_type": "execute_result"
    }
   ],
   "source": [
    "my_series"
   ]
  },
  {
   "cell_type": "code",
   "execution_count": 215,
   "id": "149a88aa",
   "metadata": {},
   "outputs": [
    {
     "data": {
      "text/plain": [
       "0    <NA>\n",
       "1    <NA>\n",
       "2    <NA>\n",
       "3    <NA>\n",
       "4    <NA>\n",
       "dtype: Int64"
      ]
     },
     "execution_count": 215,
     "metadata": {},
     "output_type": "execute_result"
    }
   ],
   "source": [
    "my_series = my_series.astype(\"Int64\")\n",
    "\n",
    "my_series"
   ]
  },
  {
   "cell_type": "code",
   "execution_count": 216,
   "id": "626afcf1",
   "metadata": {},
   "outputs": [
    {
     "data": {
      "text/plain": [
       "5"
      ]
     },
     "execution_count": 216,
     "metadata": {},
     "output_type": "execute_result"
    }
   ],
   "source": [
    "my_series.isna().sum()"
   ]
  },
  {
   "cell_type": "code",
   "execution_count": 217,
   "id": "4b4fb524",
   "metadata": {},
   "outputs": [
    {
     "data": {
      "text/plain": [
       "Series([], Name: count, dtype: Int64)"
      ]
     },
     "execution_count": 217,
     "metadata": {},
     "output_type": "execute_result"
    }
   ],
   "source": [
    "my_series.value_counts()"
   ]
  },
  {
   "cell_type": "code",
   "execution_count": 218,
   "id": "3fd570a3",
   "metadata": {},
   "outputs": [
    {
     "data": {
      "text/plain": [
       "<NA>    5\n",
       "Name: count, dtype: Int64"
      ]
     },
     "execution_count": 218,
     "metadata": {},
     "output_type": "execute_result"
    }
   ],
   "source": [
    "my_series.value_counts(dropna=False)"
   ]
  },
  {
   "cell_type": "code",
   "execution_count": 219,
   "id": "a2913ae4",
   "metadata": {},
   "outputs": [],
   "source": [
    "my_series = pd.Series(range(5))"
   ]
  },
  {
   "cell_type": "code",
   "execution_count": 220,
   "id": "f77cdcb0",
   "metadata": {},
   "outputs": [],
   "source": [
    "# replace two of the values with missing values\n",
    "\n",
    "my_series.loc[1:2] = pd.NA "
   ]
  },
  {
   "cell_type": "code",
   "execution_count": 221,
   "id": "3368dd30",
   "metadata": {},
   "outputs": [
    {
     "data": {
      "text/plain": [
       "0    0.0\n",
       "1    NaN\n",
       "2    NaN\n",
       "3    3.0\n",
       "4    4.0\n",
       "dtype: float64"
      ]
     },
     "execution_count": 221,
     "metadata": {},
     "output_type": "execute_result"
    }
   ],
   "source": [
    "my_series"
   ]
  },
  {
   "cell_type": "code",
   "execution_count": 222,
   "id": "d50f27f3",
   "metadata": {},
   "outputs": [
    {
     "data": {
      "text/plain": [
       "0    False\n",
       "1     True\n",
       "2     True\n",
       "3    False\n",
       "4    False\n",
       "dtype: bool"
      ]
     },
     "execution_count": 222,
     "metadata": {},
     "output_type": "execute_result"
    }
   ],
   "source": [
    "my_series.isna()"
   ]
  },
  {
   "cell_type": "code",
   "execution_count": 223,
   "id": "dcd1cddc",
   "metadata": {},
   "outputs": [
    {
     "data": {
      "text/plain": [
       "NaN    2\n",
       "0.0    1\n",
       "3.0    1\n",
       "4.0    1\n",
       "Name: count, dtype: int64"
      ]
     },
     "execution_count": 223,
     "metadata": {},
     "output_type": "execute_result"
    }
   ],
   "source": [
    "my_series.value_counts(dropna=False)"
   ]
  },
  {
   "cell_type": "code",
   "execution_count": 224,
   "id": "e4fe4083",
   "metadata": {},
   "outputs": [
    {
     "data": {
      "text/plain": [
       "0    0.0\n",
       "1    0.0\n",
       "2    0.0\n",
       "3    3.0\n",
       "4    4.0\n",
       "dtype: float64"
      ]
     },
     "execution_count": 224,
     "metadata": {},
     "output_type": "execute_result"
    }
   ],
   "source": [
    "my_series.fillna(0)"
   ]
  },
  {
   "cell_type": "code",
   "execution_count": 225,
   "id": "e7342625",
   "metadata": {},
   "outputs": [
    {
     "data": {
      "text/plain": [
       "0    0.000000\n",
       "1    2.333333\n",
       "2    2.333333\n",
       "3    3.000000\n",
       "4    4.000000\n",
       "dtype: float64"
      ]
     },
     "execution_count": 225,
     "metadata": {},
     "output_type": "execute_result"
    }
   ],
   "source": [
    "my_series.fillna(my_series.mean())"
   ]
  },
  {
   "cell_type": "code",
   "execution_count": 226,
   "id": "9092e162",
   "metadata": {},
   "outputs": [
    {
     "data": {
      "text/plain": [
       "0    0.0\n",
       "3    3.0\n",
       "4    4.0\n",
       "dtype: float64"
      ]
     },
     "execution_count": 226,
     "metadata": {},
     "output_type": "execute_result"
    }
   ],
   "source": [
    "my_series.dropna()"
   ]
  },
  {
   "cell_type": "code",
   "execution_count": 227,
   "id": "8db02581",
   "metadata": {},
   "outputs": [
    {
     "data": {
      "text/html": [
       "<div>\n",
       "<style scoped>\n",
       "    .dataframe tbody tr th:only-of-type {\n",
       "        vertical-align: middle;\n",
       "    }\n",
       "\n",
       "    .dataframe tbody tr th {\n",
       "        vertical-align: top;\n",
       "    }\n",
       "\n",
       "    .dataframe thead th {\n",
       "        text-align: right;\n",
       "    }\n",
       "</style>\n",
       "<table border=\"1\" class=\"dataframe\">\n",
       "  <thead>\n",
       "    <tr style=\"text-align: right;\">\n",
       "      <th></th>\n",
       "      <th>index</th>\n",
       "      <th>0</th>\n",
       "    </tr>\n",
       "  </thead>\n",
       "  <tbody>\n",
       "    <tr>\n",
       "      <th>0</th>\n",
       "      <td>0</td>\n",
       "      <td>0.0</td>\n",
       "    </tr>\n",
       "    <tr>\n",
       "      <th>1</th>\n",
       "      <td>3</td>\n",
       "      <td>3.0</td>\n",
       "    </tr>\n",
       "    <tr>\n",
       "      <th>2</th>\n",
       "      <td>4</td>\n",
       "      <td>4.0</td>\n",
       "    </tr>\n",
       "  </tbody>\n",
       "</table>\n",
       "</div>"
      ],
      "text/plain": [
       "   index    0\n",
       "0      0  0.0\n",
       "1      3  3.0\n",
       "2      4  4.0"
      ]
     },
     "execution_count": 227,
     "metadata": {},
     "output_type": "execute_result"
    }
   ],
   "source": [
    "# reset the index to have the continuous value of index\n",
    "\n",
    "my_series.dropna().reset_index() "
   ]
  },
  {
   "cell_type": "code",
   "execution_count": 228,
   "id": "4f673bb2",
   "metadata": {},
   "outputs": [
    {
     "data": {
      "text/plain": [
       "0    0.0\n",
       "1    3.0\n",
       "2    4.0\n",
       "dtype: float64"
      ]
     },
     "execution_count": 228,
     "metadata": {},
     "output_type": "execute_result"
    }
   ],
   "source": [
    "# reset the index to have the continuous value of index\n",
    "\n",
    "my_series.dropna().reset_index(drop=True) # drop=True to avoid returnning a dataframe with the old index as a column"
   ]
  },
  {
   "attachments": {},
   "cell_type": "markdown",
   "id": "b81e8ab9",
   "metadata": {},
   "source": [
    "# Assignment 6: Missing Data\n",
    "\n",
    "### Erroneous Data\n",
    "\n",
    "There were some erroneous prices in our data, so they were filled in with missing values.\n",
    "\n",
    "Can you confirm the number of missing values in the price column? \n",
    "\n",
    "Once you’ve done that, fill the prices in with the median of the oil price series.\n"
   ]
  },
  {
   "cell_type": "code",
   "execution_count": 232,
   "id": "6d5fdec5",
   "metadata": {
    "scrolled": true
   },
   "outputs": [
    {
     "data": {
      "text/plain": [
       "date\n",
       "2016-12-20    52.22\n",
       "2016-12-21      NaN\n",
       "2016-12-22    51.98\n",
       "2016-12-23    52.01\n",
       "2016-12-27    52.82\n",
       "              ...  \n",
       "2017-05-09    45.84\n",
       "2017-05-10    47.28\n",
       "2017-05-11    47.81\n",
       "2017-05-12      NaN\n",
       "2017-05-15    48.86\n",
       "Name: oil_prices, Length: 100, dtype: float64"
      ]
     },
     "execution_count": 232,
     "metadata": {},
     "output_type": "execute_result"
    }
   ],
   "source": [
    "# Fill in two values with missing data\n",
    "\n",
    "oil_series = oil_series.where(~oil_series.isin([51.44, 47.83]), pd.NA)\n",
    "\n",
    "oil_series"
   ]
  },
  {
   "cell_type": "code",
   "execution_count": 233,
   "id": "4c9fc3a5",
   "metadata": {},
   "outputs": [
    {
     "data": {
      "text/plain": [
       "2"
      ]
     },
     "execution_count": 233,
     "metadata": {},
     "output_type": "execute_result"
    }
   ],
   "source": [
    "# Sum/count missing values\n",
    "\n",
    "oil_series.isna().sum()"
   ]
  },
  {
   "cell_type": "code",
   "execution_count": 234,
   "id": "1ec16104",
   "metadata": {
    "scrolled": true
   },
   "outputs": [
    {
     "data": {
      "text/plain": [
       "date\n",
       "2016-12-20    52.220\n",
       "2016-12-21    52.205\n",
       "2016-12-22    51.980\n",
       "2016-12-23    52.010\n",
       "2016-12-27    52.820\n",
       "               ...  \n",
       "2017-05-09    45.840\n",
       "2017-05-10    47.280\n",
       "2017-05-11    47.810\n",
       "2017-05-12    52.205\n",
       "2017-05-15    48.860\n",
       "Name: oil_prices, Length: 100, dtype: float64"
      ]
     },
     "execution_count": 234,
     "metadata": {},
     "output_type": "execute_result"
    }
   ],
   "source": [
    "# Fill in missing values with median\n",
    "\n",
    "oil_series.fillna(oil_series.median())\n"
   ]
  },
  {
   "attachments": {},
   "cell_type": "markdown",
   "id": "9eb1dd90",
   "metadata": {},
   "source": [
    "## 14 - Applying Custom Functions to Series\n",
    "\n",
    "The `.apply()` method lets you apply custom functions to Pandas Series \n",
    "* This function will not be vectorized, so it's not as efficient as native cuntions \n",
    "\n",
    "Pandas' `.where()` method lets you manipulate data based on a logical condition \n",
    "\n",
    " <img src=\"../images/8-the_where_method.png\" width=50% height=50%>\n",
    "\n",
    " You can `chain .where() methods` to combine logical expressions\n",
    "\n",
    " NumPy's where function is often more convenient & useful than Pandas' method"
   ]
  },
  {
   "attachments": {},
   "cell_type": "markdown",
   "id": "b8bedba3",
   "metadata": {},
   "source": [
    "#### Practice"
   ]
  },
  {
   "cell_type": "code",
   "execution_count": 235,
   "id": "3d94b4cb",
   "metadata": {},
   "outputs": [
    {
     "data": {
      "text/plain": [
       "0    day 0\n",
       "1    day 0\n",
       "2    day 2\n",
       "3    day 2\n",
       "4    day 4\n",
       "dtype: object"
      ]
     },
     "execution_count": 235,
     "metadata": {},
     "output_type": "execute_result"
    }
   ],
   "source": [
    "string_series = pd.Series([\"day 0\", \"day 0\", \"day 2\", \"day 2\", \"day 4\"])\n",
    "\n",
    "string_series"
   ]
  },
  {
   "cell_type": "code",
   "execution_count": 236,
   "id": "eb8c0a77",
   "metadata": {},
   "outputs": [
    {
     "data": {
      "text/plain": [
       "0    0\n",
       "1    0\n",
       "2    2\n",
       "3    2\n",
       "4    4\n",
       "dtype: object"
      ]
     },
     "execution_count": 236,
     "metadata": {},
     "output_type": "execute_result"
    }
   ],
   "source": [
    "# extract the integer portion of the string\n",
    "\n",
    "string_series.apply(lambda x: x[-1])"
   ]
  },
  {
   "cell_type": "code",
   "execution_count": 237,
   "id": "045376d5",
   "metadata": {},
   "outputs": [
    {
     "data": {
      "text/plain": [
       "0    0\n",
       "1    0\n",
       "2    2\n",
       "3    2\n",
       "4    4\n",
       "dtype: object"
      ]
     },
     "execution_count": 237,
     "metadata": {},
     "output_type": "execute_result"
    }
   ],
   "source": [
    "# built-in method to extract the integer portion of the string\n",
    "\n",
    "string_series.str[-1]"
   ]
  },
  {
   "cell_type": "code",
   "execution_count": 238,
   "id": "ff218561",
   "metadata": {},
   "outputs": [],
   "source": [
    "def search(string, looking_for):\n",
    "    if looking_for in string:\n",
    "        return \"Found It!\"\n",
    "    return \"Nope\""
   ]
  },
  {
   "cell_type": "code",
   "execution_count": 239,
   "id": "e11669e3",
   "metadata": {},
   "outputs": [
    {
     "data": {
      "text/plain": [
       "0         Nope\n",
       "1         Nope\n",
       "2    Found It!\n",
       "3    Found It!\n",
       "4         Nope\n",
       "dtype: object"
      ]
     },
     "execution_count": 239,
     "metadata": {},
     "output_type": "execute_result"
    }
   ],
   "source": [
    "string_series.apply(search, args='2')"
   ]
  },
  {
   "cell_type": "code",
   "execution_count": 243,
   "id": "6a471f79",
   "metadata": {},
   "outputs": [
    {
     "data": {
      "text/plain": [
       "0        Nope!\n",
       "1        Nope!\n",
       "2    Found it!\n",
       "3    Found it!\n",
       "4        Nope!\n",
       "dtype: object"
      ]
     },
     "execution_count": 243,
     "metadata": {},
     "output_type": "execute_result"
    }
   ],
   "source": [
    "# Use built-in Pandas methods and functions (more efficient than the apply custom function)\n",
    "\n",
    "string_series.where(\n",
    "    string_series.str.contains(\"2\"), \"Nope!\").where(\n",
    "    ~string_series.str.contains(\"2\"), \"Found it!\"\n",
    ")"
   ]
  },
  {
   "cell_type": "code",
   "execution_count": 244,
   "id": "dd4f4305",
   "metadata": {},
   "outputs": [
    {
     "data": {
      "text/plain": [
       "array(['Nope!', 'Nope!', 'Found it!', 'Found it!', 'Nope!'], dtype='<U9')"
      ]
     },
     "execution_count": 244,
     "metadata": {},
     "output_type": "execute_result"
    }
   ],
   "source": [
    "# Use NumPy (this returns a NumPy array, not a Pandas series)\n",
    "\n",
    "np.where(string_series.str.contains(\"2\"), \"Found it!\", \"Nope!\")"
   ]
  },
  {
   "cell_type": "code",
   "execution_count": 245,
   "id": "f5b94e92",
   "metadata": {},
   "outputs": [
    {
     "data": {
      "text/plain": [
       "0        Nope!\n",
       "1        Nope!\n",
       "2    Found it!\n",
       "3    Found it!\n",
       "4        Nope!\n",
       "dtype: object"
      ]
     },
     "execution_count": 245,
     "metadata": {},
     "output_type": "execute_result"
    }
   ],
   "source": [
    "# to get a Series back, wrap the np.where in a pd.Series\n",
    "\n",
    "pd.Series(np.where(string_series.str.contains(\"2\"), \"Found it!\", \"Nope!\"))"
   ]
  },
  {
   "attachments": {},
   "cell_type": "markdown",
   "id": "19a0e70c",
   "metadata": {},
   "source": [
    "# Exercise 7: Apply and Where\n",
    "\n",
    "### Additional Metrics\n",
    "\n",
    "Write a function that outputs ‘buy’ if price is less than the 90th percentile and ‘wait’ if it’s not. Apply it to the oil series.\n",
    "\n",
    "Then, create a series that multiplies price by .9 if the date is ‘2016-12-23’ or ‘2017-05-10’, and 1.1 for all other dates. "
   ]
  },
  {
   "cell_type": "code",
   "execution_count": 246,
   "id": "e508687c",
   "metadata": {},
   "outputs": [],
   "source": [
    "# Define a function that returns 'Buy' if price below limit, 'Wait' if not.\n",
    "\n",
    "def buy_bool(price, limit):\n",
    "    if price < limit:\n",
    "        return \"Buy\"\n",
    "    return \"Wait\""
   ]
  },
  {
   "cell_type": "code",
   "execution_count": 247,
   "id": "3496ec24",
   "metadata": {},
   "outputs": [
    {
     "data": {
      "text/plain": [
       "date\n",
       "2016-12-20     Buy\n",
       "2016-12-21    Wait\n",
       "2016-12-22     Buy\n",
       "2016-12-23     Buy\n",
       "2016-12-27     Buy\n",
       "              ... \n",
       "2017-05-09     Buy\n",
       "2017-05-10     Buy\n",
       "2017-05-11     Buy\n",
       "2017-05-12    Wait\n",
       "2017-05-15     Buy\n",
       "Name: oil_prices, Length: 100, dtype: object"
      ]
     },
     "execution_count": 247,
     "metadata": {},
     "output_type": "execute_result"
    }
   ],
   "source": [
    "# Apply function to OIl Series, args = to specify arguments - make sure to pass a list or tuple to args\n",
    "\n",
    "oil_series.apply(buy_bool, args=(oil_series.quantile(0.9),))"
   ]
  },
  {
   "cell_type": "code",
   "execution_count": 251,
   "id": "e7f3724c",
   "metadata": {},
   "outputs": [
    {
     "data": {
      "text/plain": [
       "53.813"
      ]
     },
     "execution_count": 251,
     "metadata": {},
     "output_type": "execute_result"
    }
   ],
   "source": [
    "# check the quantile\n",
    "\n",
    "oil_series.quantile(0.9)"
   ]
  },
  {
   "cell_type": "code",
   "execution_count": 248,
   "id": "feab5b7d",
   "metadata": {},
   "outputs": [
    {
     "data": {
      "text/plain": [
       "date\n",
       "2016-12-20     Buy\n",
       "2016-12-21    Wait\n",
       "2016-12-22     Buy\n",
       "2016-12-23     Buy\n",
       "2016-12-27     Buy\n",
       "              ... \n",
       "2017-05-09     Buy\n",
       "2017-05-10     Buy\n",
       "2017-05-11     Buy\n",
       "2017-05-12    Wait\n",
       "2017-05-15     Buy\n",
       "Name: oil_prices, Length: 100, dtype: object"
      ]
     },
     "execution_count": 248,
     "metadata": {},
     "output_type": "execute_result"
    }
   ],
   "source": [
    "# Lambda function version of Wait/Buy\n",
    "\n",
    "oil_series.apply(lambda x: \"Buy\" if x < oil_series.quantile(0.9) else \"Wait\")"
   ]
  },
  {
   "cell_type": "code",
   "execution_count": 249,
   "id": "6e9ec561",
   "metadata": {},
   "outputs": [
    {
     "data": {
      "text/plain": [
       "date\n",
       "2016-12-20    57.442\n",
       "2016-12-21       NaN\n",
       "2016-12-22    57.178\n",
       "2016-12-23    46.809\n",
       "2016-12-27    58.102\n",
       "               ...  \n",
       "2017-05-09    50.424\n",
       "2017-05-10    42.552\n",
       "2017-05-11    52.591\n",
       "2017-05-12       NaN\n",
       "2017-05-15    53.746\n",
       "Name: oil_prices, Length: 100, dtype: float64"
      ]
     },
     "execution_count": 249,
     "metadata": {},
     "output_type": "execute_result"
    }
   ],
   "source": [
    "# Chain Pandas where to specify complementary logic.\n",
    "# First where - if test returns FALSE (not one of these dates), multiply by 1.1\n",
    "# Second where - if inverted test returns FALSE (is one of these dates) multiply by .9\n",
    "\n",
    "(oil_series\n",
    " .where(oil_series.index.isin([\"2016-12-23\", \"2017-05-10\"]), oil_series * 1.1)\n",
    " .where(~oil_series.index.isin([\"2016-12-23\", \"2017-05-10\"]), oil_series * .9)\n",
    ")"
   ]
  },
  {
   "cell_type": "code",
   "execution_count": 250,
   "id": "472580a4",
   "metadata": {},
   "outputs": [
    {
     "data": {
      "text/plain": [
       "0     57.442\n",
       "1        NaN\n",
       "2     57.178\n",
       "3     46.809\n",
       "4     58.102\n",
       "       ...  \n",
       "95    50.424\n",
       "96    42.552\n",
       "97    52.591\n",
       "98       NaN\n",
       "99    53.746\n",
       "Length: 100, dtype: float64"
      ]
     },
     "execution_count": 250,
     "metadata": {},
     "output_type": "execute_result"
    }
   ],
   "source": [
    "# Use NumPy where to modify price based on dates.\n",
    "# if price in list, multiply by .9\n",
    "# if price not in list, multiply by 1.1\n",
    "# Convert NumPy array returned by np.where to Series\n",
    "import numpy as np\n",
    "\n",
    "pd.Series(\n",
    "    np.where(\n",
    "        oil_series.index.isin([\"2016-12-23\", \"2017-05-10\"]),\n",
    "        oil_series * 0.9,\n",
    "        oil_series * 1.1,\n",
    "    )\n",
    ")"
   ]
  },
  {
   "cell_type": "code",
   "execution_count": 252,
   "id": "f2a26ebb",
   "metadata": {},
   "outputs": [
    {
     "data": {
      "text/html": [
       "<div>\n",
       "<style scoped>\n",
       "    .dataframe tbody tr th:only-of-type {\n",
       "        vertical-align: middle;\n",
       "    }\n",
       "\n",
       "    .dataframe tbody tr th {\n",
       "        vertical-align: top;\n",
       "    }\n",
       "\n",
       "    .dataframe thead th {\n",
       "        text-align: right;\n",
       "    }\n",
       "</style>\n",
       "<table border=\"1\" class=\"dataframe\">\n",
       "  <thead>\n",
       "    <tr style=\"text-align: right;\">\n",
       "      <th></th>\n",
       "      <th>oil_prices</th>\n",
       "    </tr>\n",
       "    <tr>\n",
       "      <th>date</th>\n",
       "      <th></th>\n",
       "    </tr>\n",
       "  </thead>\n",
       "  <tbody>\n",
       "    <tr>\n",
       "      <th>2016-12-20</th>\n",
       "      <td>52.22</td>\n",
       "    </tr>\n",
       "    <tr>\n",
       "      <th>2016-12-21</th>\n",
       "      <td>NaN</td>\n",
       "    </tr>\n",
       "    <tr>\n",
       "      <th>2016-12-22</th>\n",
       "      <td>51.98</td>\n",
       "    </tr>\n",
       "    <tr>\n",
       "      <th>2016-12-23</th>\n",
       "      <td>52.01</td>\n",
       "    </tr>\n",
       "    <tr>\n",
       "      <th>2016-12-27</th>\n",
       "      <td>52.82</td>\n",
       "    </tr>\n",
       "    <tr>\n",
       "      <th>...</th>\n",
       "      <td>...</td>\n",
       "    </tr>\n",
       "    <tr>\n",
       "      <th>2017-05-09</th>\n",
       "      <td>45.84</td>\n",
       "    </tr>\n",
       "    <tr>\n",
       "      <th>2017-05-10</th>\n",
       "      <td>47.28</td>\n",
       "    </tr>\n",
       "    <tr>\n",
       "      <th>2017-05-11</th>\n",
       "      <td>47.81</td>\n",
       "    </tr>\n",
       "    <tr>\n",
       "      <th>2017-05-12</th>\n",
       "      <td>NaN</td>\n",
       "    </tr>\n",
       "    <tr>\n",
       "      <th>2017-05-15</th>\n",
       "      <td>48.86</td>\n",
       "    </tr>\n",
       "  </tbody>\n",
       "</table>\n",
       "<p>100 rows × 1 columns</p>\n",
       "</div>"
      ],
      "text/plain": [
       "            oil_prices\n",
       "date                  \n",
       "2016-12-20       52.22\n",
       "2016-12-21         NaN\n",
       "2016-12-22       51.98\n",
       "2016-12-23       52.01\n",
       "2016-12-27       52.82\n",
       "...                ...\n",
       "2017-05-09       45.84\n",
       "2017-05-10       47.28\n",
       "2017-05-11       47.81\n",
       "2017-05-12         NaN\n",
       "2017-05-15       48.86\n",
       "\n",
       "[100 rows x 1 columns]"
      ]
     },
     "execution_count": 252,
     "metadata": {},
     "output_type": "execute_result"
    }
   ],
   "source": [
    "df = pd.DataFrame(oil_series)\n",
    "\n",
    "df "
   ]
  },
  {
   "cell_type": "code",
   "execution_count": 253,
   "id": "43735c84",
   "metadata": {},
   "outputs": [],
   "source": [
    "df[\"new_price\"]=np.where(\n",
    "        oil_series.index.isin([\"2016-12-23\", \"2017-05-10\"]),\n",
    "        oil_series * 0.9,\n",
    "        oil_series * 1.1,\n",
    "    )"
   ]
  },
  {
   "cell_type": "code",
   "execution_count": 254,
   "id": "2c9a03e3",
   "metadata": {},
   "outputs": [
    {
     "data": {
      "text/html": [
       "<div>\n",
       "<style scoped>\n",
       "    .dataframe tbody tr th:only-of-type {\n",
       "        vertical-align: middle;\n",
       "    }\n",
       "\n",
       "    .dataframe tbody tr th {\n",
       "        vertical-align: top;\n",
       "    }\n",
       "\n",
       "    .dataframe thead th {\n",
       "        text-align: right;\n",
       "    }\n",
       "</style>\n",
       "<table border=\"1\" class=\"dataframe\">\n",
       "  <thead>\n",
       "    <tr style=\"text-align: right;\">\n",
       "      <th></th>\n",
       "      <th>oil_prices</th>\n",
       "      <th>new_price</th>\n",
       "    </tr>\n",
       "    <tr>\n",
       "      <th>date</th>\n",
       "      <th></th>\n",
       "      <th></th>\n",
       "    </tr>\n",
       "  </thead>\n",
       "  <tbody>\n",
       "    <tr>\n",
       "      <th>2016-12-20</th>\n",
       "      <td>52.22</td>\n",
       "      <td>57.442</td>\n",
       "    </tr>\n",
       "    <tr>\n",
       "      <th>2016-12-21</th>\n",
       "      <td>NaN</td>\n",
       "      <td>NaN</td>\n",
       "    </tr>\n",
       "    <tr>\n",
       "      <th>2016-12-22</th>\n",
       "      <td>51.98</td>\n",
       "      <td>57.178</td>\n",
       "    </tr>\n",
       "    <tr>\n",
       "      <th>2016-12-23</th>\n",
       "      <td>52.01</td>\n",
       "      <td>46.809</td>\n",
       "    </tr>\n",
       "    <tr>\n",
       "      <th>2016-12-27</th>\n",
       "      <td>52.82</td>\n",
       "      <td>58.102</td>\n",
       "    </tr>\n",
       "  </tbody>\n",
       "</table>\n",
       "</div>"
      ],
      "text/plain": [
       "            oil_prices  new_price\n",
       "date                             \n",
       "2016-12-20       52.22     57.442\n",
       "2016-12-21         NaN        NaN\n",
       "2016-12-22       51.98     57.178\n",
       "2016-12-23       52.01     46.809\n",
       "2016-12-27       52.82     58.102"
      ]
     },
     "execution_count": 254,
     "metadata": {},
     "output_type": "execute_result"
    }
   ],
   "source": [
    "df.head()"
   ]
  }
 ],
 "metadata": {
  "kernelspec": {
   "display_name": "maven-python",
   "language": "python",
   "name": "maven-python"
  },
  "language_info": {
   "codemirror_mode": {
    "name": "ipython",
    "version": 3
   },
   "file_extension": ".py",
   "mimetype": "text/x-python",
   "name": "python",
   "nbconvert_exporter": "python",
   "pygments_lexer": "ipython3",
   "version": "3.10.11"
  }
 },
 "nbformat": 4,
 "nbformat_minor": 5
}
